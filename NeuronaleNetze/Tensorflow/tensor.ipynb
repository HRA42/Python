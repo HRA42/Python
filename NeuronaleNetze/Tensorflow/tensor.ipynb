{
 "cells": [
  {
   "cell_type": "markdown",
   "source": [
    "# Tensoren"
   ],
   "metadata": {
    "collapsed": false,
    "pycharm": {
     "name": "#%% md\n"
    }
   }
  },
  {
   "cell_type": "markdown",
   "source": [
    "## Import Tensorflow"
   ],
   "metadata": {
    "collapsed": false,
    "pycharm": {
     "name": "#%% md\n"
    }
   }
  },
  {
   "cell_type": "code",
   "execution_count": 41,
   "outputs": [],
   "source": [
    "import tensorflow as tf"
   ],
   "metadata": {
    "collapsed": false,
    "pycharm": {
     "name": "#%%\n"
    }
   }
  },
  {
   "cell_type": "markdown",
   "source": [
    "## 0D-Tensor\n",
    "- auch Skalar genannt"
   ],
   "metadata": {
    "collapsed": false,
    "pycharm": {
     "name": "#%% md\n"
    }
   }
  },
  {
   "cell_type": "code",
   "execution_count": 42,
   "outputs": [],
   "source": [
    "my_scalar = tf.constant(1, name=\"mein Skalar\")"
   ],
   "metadata": {
    "collapsed": false,
    "pycharm": {
     "name": "#%%\n"
    }
   }
  },
  {
   "cell_type": "markdown",
   "source": [
    "### Ausgabe des Skalars\n",
    "- Zeigt nur die Daten innerhalb des 0D-Tensor an"
   ],
   "metadata": {
    "collapsed": false,
    "pycharm": {
     "name": "#%% md\n"
    }
   }
  },
  {
   "cell_type": "code",
   "execution_count": 43,
   "outputs": [
    {
     "name": "stdout",
     "output_type": "stream",
     "text": [
      "1\r\n"
     ]
    }
   ],
   "source": [
    "tf.print(my_scalar)"
   ],
   "metadata": {
    "collapsed": false,
    "pycharm": {
     "name": "#%%\n"
    }
   }
  },
  {
   "cell_type": "markdown",
   "source": [
    "#### mehr Daten über Skalar\n",
    "- Zeigt relevante Informationen zum Tensor an"
   ],
   "metadata": {
    "collapsed": false,
    "pycharm": {
     "name": "#%% md\n"
    }
   }
  },
  {
   "cell_type": "code",
   "execution_count": 44,
   "outputs": [
    {
     "name": "stdout",
     "output_type": "stream",
     "text": [
      "tf.Tensor(1, shape=(), dtype=int32)\n"
     ]
    }
   ],
   "source": [
    "print(my_scalar)"
   ],
   "metadata": {
    "collapsed": false,
    "pycharm": {
     "name": "#%%\n"
    }
   }
  },
  {
   "cell_type": "markdown",
   "source": [
    "## 1D Tensor\n",
    "- kann Einzelwertreihenfolgen speichern"
   ],
   "metadata": {
    "collapsed": false,
    "pycharm": {
     "name": "#%% md\n"
    }
   }
  },
  {
   "cell_type": "code",
   "execution_count": 45,
   "outputs": [
    {
     "name": "stdout",
     "output_type": "stream",
     "text": [
      "tf.Tensor([1 2 3 4], shape=(4,), dtype=int32)\n",
      "tf.Tensor([b'Hallo' b'Welt' b'dies' b'ist' b'ein 1D-Tensor!'], shape=(5,), dtype=string)\n"
     ]
    }
   ],
   "source": [
    "tensor_1d = tf.constant([1,2,3,4])\n",
    "print(tensor_1d)\n",
    "tensor_1d_with_strings = tf.constant([\"Hallo\", \"Welt\", \"dies\", \"ist\", \"ein 1D-Tensor!\"])\n",
    "print(tensor_1d_with_strings)"
   ],
   "metadata": {
    "collapsed": false,
    "pycharm": {
     "name": "#%%\n"
    }
   }
  },
  {
   "cell_type": "markdown",
   "source": [
    "### Alternative Aufgabe"
   ],
   "metadata": {
    "collapsed": false,
    "pycharm": {
     "name": "#%% md\n"
    }
   }
  },
  {
   "cell_type": "code",
   "execution_count": 46,
   "outputs": [
    {
     "name": "stdout",
     "output_type": "stream",
     "text": [
      "[1 2 3 4]\r\n",
      "[\"Hallo\" \"Welt\" \"dies\" \"ist\" \"ein 1D-Tensor!\"]\r\n"
     ]
    }
   ],
   "source": [
    "tf.print(tensor_1d)\n",
    "tf.print(tensor_1d_with_strings)"
   ],
   "metadata": {
    "collapsed": false,
    "pycharm": {
     "name": "#%%\n"
    }
   }
  },
  {
   "cell_type": "markdown",
   "source": [
    "## 2D Tensor\n",
    "- auch Matrix genannt\n",
    "- kann indizierte (mehrspaltige) Einträge speichern"
   ],
   "metadata": {
    "collapsed": false,
    "pycharm": {
     "name": "#%% md\n"
    }
   }
  },
  {
   "cell_type": "code",
   "execution_count": 47,
   "outputs": [
    {
     "name": "stdout",
     "output_type": "stream",
     "text": [
      "tf.Tensor(\n",
      "[[1 2]\n",
      " [3 4]\n",
      " [5 6]], shape=(3, 2), dtype=int32)\n",
      "tf.Tensor(\n",
      "[[b'Petra' b'Schmitt']\n",
      " [b'Max' b'Mustermann']\n",
      " [b'John' b'Doe']], shape=(3, 2), dtype=string)\n"
     ]
    }
   ],
   "source": [
    "tensor_2d = tf.constant([[1, 2], [3, 4], [5, 6]])\n",
    "print(tensor_2d)\n",
    "tensor_2d_with_strings = tf.constant([[\"Petra\", \"Schmitt\"], [\"Max\", \"Mustermann\"], [\"John\", \"Doe\"]])\n",
    "print(tensor_2d_with_strings)"
   ],
   "metadata": {
    "collapsed": false,
    "pycharm": {
     "name": "#%%\n"
    }
   }
  },
  {
   "cell_type": "markdown",
   "source": [
    "### Alternative Ausgabe"
   ],
   "metadata": {
    "collapsed": false,
    "pycharm": {
     "name": "#%% md\n"
    }
   }
  },
  {
   "cell_type": "code",
   "execution_count": 48,
   "outputs": [
    {
     "name": "stdout",
     "output_type": "stream",
     "text": [
      "[[1 2]\n",
      " [3 4]\n",
      " [5 6]]\r\n",
      "[[\"Petra\" \"Schmitt\"]\n",
      " [\"Max\" \"Mustermann\"]\n",
      " [\"John\" \"Doe\"]]\r\n"
     ]
    }
   ],
   "source": [
    "tf.print(tensor_2d)\n",
    "tf.print(tensor_2d_with_strings)"
   ],
   "metadata": {
    "collapsed": false,
    "pycharm": {
     "name": "#%%\n"
    }
   }
  },
  {
   "cell_type": "markdown",
   "source": [
    "## 3D-Tensor"
   ],
   "metadata": {
    "collapsed": false,
    "pycharm": {
     "name": "#%% md\n"
    }
   }
  },
  {
   "cell_type": "code",
   "execution_count": 49,
   "outputs": [
    {
     "name": "stdout",
     "output_type": "stream",
     "text": [
      "3\r\n"
     ]
    }
   ],
   "source": [
    "tensor_3d = tf.constant([\n",
    "    [[1,4], [3,8]],\n",
    "    [[5,7], [9,3]]\n",
    "])\n",
    "tf.print(tf.rank(tensor_3d)) #  tf.rank gibt die Ordnung des Tensors wieder(1, 2, 3 oder 4D Tensor)"
   ],
   "metadata": {
    "collapsed": false,
    "pycharm": {
     "name": "#%%\n"
    }
   }
  },
  {
   "cell_type": "markdown",
   "source": [
    "## 4D-Tensor\n",
    "- z.B. ein Video\n",
    "- Reihenfolge von Bildern (3D-Tensor)"
   ],
   "metadata": {
    "collapsed": false,
    "pycharm": {
     "name": "#%% md\n"
    }
   }
  },
  {
   "cell_type": "markdown",
   "source": [
    "## Numpy Strukturen in Tensorflow"
   ],
   "metadata": {
    "collapsed": false,
    "pycharm": {
     "name": "#%% md\n"
    }
   }
  },
  {
   "cell_type": "code",
   "execution_count": 50,
   "outputs": [
    {
     "name": "stdout",
     "output_type": "stream",
     "text": [
      "Eine Numpy-Struktur kann in einen Tensor umgewandelt werden: tf.Tensor([0.  0.5 1.  1.5 2.  2.5 3.  3.5 4.  4.5], shape=(10,), dtype=float64)\n",
      "und wieder zurück in eine NumPy-Struktur: [0.  0.5 1.  1.5 2.  2.5 3.  3.5 4.  4.5]\n"
     ]
    }
   ],
   "source": [
    "import numpy as np\n",
    "\n",
    "np_array = np.arange(0, 5, step=0.5)\n",
    "tensor_from_numpy = tf.constant(np_array, name=\"converted\")\n",
    "print(\"Eine Numpy-Struktur kann in einen Tensor umgewandelt werden:\", tensor_from_numpy)\n",
    "print(\"und wieder zurück in eine NumPy-Struktur:\", tensor_from_numpy.numpy())"
   ],
   "metadata": {
    "collapsed": false,
    "pycharm": {
     "name": "#%%\n"
    }
   }
  },
  {
   "cell_type": "markdown",
   "source": [
    "## Bilder laden mit Numy und Tensorflow"
   ],
   "metadata": {
    "collapsed": false,
    "pycharm": {
     "name": "#%% md\n"
    }
   }
  },
  {
   "cell_type": "code",
   "execution_count": 51,
   "outputs": [
    {
     "name": "stdout",
     "output_type": "stream",
     "text": [
      "== Alternative 1 ==\n",
      "[[[183 205 219]\n",
      "  [184 206 220]\n",
      "  [186 208 222]\n",
      "  ...\n",
      "  [221 224 229]\n",
      "  [221 224 229]\n",
      "  [221 224 229]]\n",
      "\n",
      " [[183 205 219]\n",
      "  [184 206 220]\n",
      "  [186 208 222]\n",
      "  ...\n",
      "  [220 223 228]\n",
      "  [220 223 228]\n",
      "  [220 223 228]]\n",
      "\n",
      " [[183 205 219]\n",
      "  [184 206 220]\n",
      "  [185 207 221]\n",
      "  ...\n",
      "  [221 224 229]\n",
      "  [221 224 229]\n",
      "  [221 224 229]]\n",
      "\n",
      " ...\n",
      "\n",
      " [[210 208 213]\n",
      "  [210 208 213]\n",
      "  [210 208 213]\n",
      "  ...\n",
      "  [208 206 207]\n",
      "  [208 206 207]\n",
      "  [208 206 207]]\n",
      "\n",
      " [[210 208 213]\n",
      "  [210 208 213]\n",
      "  [210 208 213]\n",
      "  ...\n",
      "  [208 206 207]\n",
      "  [208 206 207]\n",
      "  [208 206 207]]\n",
      "\n",
      " [[210 208 213]\n",
      "  [210 208 213]\n",
      "  [210 208 213]\n",
      "  ...\n",
      "  [208 206 207]\n",
      "  [208 206 207]\n",
      "  [208 206 207]]]\r\n",
      "Rank des Tensors: 3\n"
     ]
    }
   ],
   "source": [
    "from PIL import Image\n",
    "\n",
    "# Alternative 1: mit Pillow\n",
    "print(\"== Alternative 1 ==\")\n",
    "img1 = Image.open(\"cat.jpg\")\n",
    "img1.load()\n",
    "img_data = np.asarray( img1, dtype=\"int32\" )\n",
    "img_tensor = tf.convert_to_tensor(img_data, dtype=tf.int32)\n",
    "tf.print(img_tensor)\n",
    "print(\"Rank des Tensors: {}\".format(tf.rank(img_tensor)))"
   ],
   "metadata": {
    "collapsed": false,
    "pycharm": {
     "name": "#%%\n"
    }
   }
  },
  {
   "cell_type": "code",
   "execution_count": 52,
   "outputs": [
    {
     "name": "stdout",
     "output_type": "stream",
     "text": [
      "== Alternative 2 ==\n",
      "Rank des Tensors: 3\n"
     ]
    }
   ],
   "source": [
    "# Alternative 2: Mit tf.image.decode.jpeg()\n",
    "print(\"== Alternative 2 ==\")\n",
    "img2 = tf.image.decode_jpeg(tf.io.read_file(\"cat.jpg\"))\n",
    "print(\"Rank des Tensors: {}\".format(tf.rank(img2)))"
   ],
   "metadata": {
    "collapsed": false,
    "pycharm": {
     "name": "#%%\n"
    }
   }
  },
  {
   "cell_type": "code",
   "execution_count": 53,
   "outputs": [
    {
     "name": "stdout",
     "output_type": "stream",
     "text": [
      "== Alternative 3 ==\n",
      "Rank des Tensors: 3\n",
      "Shape des Bildes: [1163 2067    3]\n",
      "RGB-Werte vom Pixel (x:0, y:0) tf.Tensor([183 205 219], shape=(3,), dtype=uint8)\n"
     ]
    }
   ],
   "source": [
    "# Alternative 3\n",
    "print(\"== Alternative 3 ==\")\n",
    "img3 = tf.image.decode_image(tf.io.read_file(\"cat.jpg\"))\n",
    "print(\"Rank des Tensors: {}\".format(tf.rank(img3)))\n",
    "print(\"Shape des Bildes: {}\".format(tf.shape(img3)))\n",
    "print(\"RGB-Werte vom Pixel (x:0, y:0)\", img3[0][0])"
   ],
   "metadata": {
    "collapsed": false,
    "pycharm": {
     "name": "#%%\n"
    }
   }
  },
  {
   "cell_type": "markdown",
   "source": [
    "## Variablen in Tensorflow\n",
    "- kann genutzt werden um Parameter eines Modells während des Trainings zu verändern oder Werte von Tensoren zu speichern\n",
    "- kann über Operationen gesetzt und verändert werden"
   ],
   "metadata": {
    "collapsed": false,
    "pycharm": {
     "name": "#%% md\n"
    }
   }
  },
  {
   "cell_type": "code",
   "execution_count": 54,
   "outputs": [
    {
     "name": "stdout",
     "output_type": "stream",
     "text": [
      "Ausgabe Beispiel 1:\n",
      "tf.Tensor(\n",
      "[[ 0.  3.  8.]\n",
      " [15. 24. 35.]], shape=(2, 3), dtype=float64)\n",
      "[[0 3 8]\n",
      " [15 24 35]]\r\n"
     ]
    }
   ],
   "source": [
    "my_tensor = tf.Variable([[1, 2, 3], [4, 5, 6]])\n",
    "\n",
    "# Erstes Beispiel\n",
    "t = np.array([2])\n",
    "\n",
    "# Equivalent zu my_tensor = my_tensor * 2\n",
    "my_tensor = my_tensor * t\n",
    "my_tensor = tf.square(my_tensor) / 4\n",
    "my_tensor = my_tensor - 1\n",
    "print(\"Ausgabe Beispiel 1:\")\n",
    "print(my_tensor)\n",
    "tf.print(my_tensor)"
   ],
   "metadata": {
    "collapsed": false,
    "pycharm": {
     "name": "#%%\n"
    }
   }
  },
  {
   "cell_type": "code",
   "execution_count": 55,
   "outputs": [
    {
     "name": "stdout",
     "output_type": "stream",
     "text": [
      "Ausgabe Beispiel 2:\n",
      "[[0 0 7]\n",
      " [0 0 8]]\r\n"
     ]
    }
   ],
   "source": [
    "my_tensor = tf.Variable([[1, 2, 3], [4, 5, 6]])\n",
    "my_second_tensor = my_tensor.assign([[0, 0, 7], [0, 0, 8]]) #  kann nur ausgeführt werden wenn der Datentyp übereinstimmt\n",
    "print(\"Ausgabe Beispiel 2:\")\n",
    "tf.print(my_second_tensor)"
   ],
   "metadata": {
    "collapsed": false,
    "pycharm": {
     "name": "#%%\n"
    }
   }
  },
  {
   "cell_type": "markdown",
   "source": [
    "## Graphen\n",
    "- Set aus mathematischen Funktionen, die mit Knoten (Edges) verbunden sind (siehe Algorithmen/Graphenprobleme)\n",
    "- werden durch optimierten C++ Code ausgeführt\n",
    "- entscheidet ob Operation auf CPU oder GPU ausgeführt wird\n",
    "- Tensorflow 2 kann auf Graphen verzichtet werden"
   ],
   "metadata": {
    "collapsed": false,
    "pycharm": {
     "name": "#%% md\n"
    }
   }
  },
  {
   "cell_type": "markdown",
   "source": [
    "### Konzept"
   ],
   "metadata": {
    "collapsed": false,
    "pycharm": {
     "name": "#%% md\n"
    }
   }
  },
  {
   "cell_type": "code",
   "execution_count": 56,
   "outputs": [
    {
     "name": "stdout",
     "output_type": "stream",
     "text": [
      "Ergebnis der Berechnung: 3.0\n"
     ]
    }
   ],
   "source": [
    "a = tf.Variable(3.0)\n",
    "b = tf.Variable(4.0)\n",
    "c = tf.Variable(1.0)\n",
    "d = tf.Variable(2.0)\n",
    "\n",
    "x_1 = tf.multiply(a, b, \"Multiplikation\")  # 12\n",
    "x_2 = tf.add(c, d, \"Addieren\")  # 3\n",
    "x_3 = tf.subtract(x_1, x_2, \"Subtrahieren\")  # 9\n",
    "result = tf.sqrt(x_3, \"Wurzel\")  # 3\n",
    "print(\"Ergebnis der Berechnung: {}\".format(result.numpy()))"
   ],
   "metadata": {
    "collapsed": false,
    "pycharm": {
     "name": "#%%\n"
    }
   }
  },
  {
   "cell_type": "markdown",
   "source": [
    "### Graphen in Tensorflow 2.0"
   ],
   "metadata": {
    "collapsed": false,
    "pycharm": {
     "name": "#%% md\n"
    }
   }
  },
  {
   "cell_type": "code",
   "execution_count": 57,
   "outputs": [
    {
     "name": "stdout",
     "output_type": "stream",
     "text": [
      "Ergebnis der Berechnung: 3.0\n"
     ]
    }
   ],
   "source": [
    "tf.summary.trace_on(graph=True, profiler=True)\n",
    "\n",
    "@tf.function\n",
    "def my_function(a,b,c,d):\n",
    "    x_1 = tf.multiply(a, b, \"Multiplikation\")  # 12\n",
    "    x_2 = tf.add(c, d, \"Addieren\")  # 3\n",
    "    x_3 = tf.subtract(x_1, x_2, \"Subtrahieren\")  # 9\n",
    "    result = tf.sqrt(x_3, \"Wurzel\")  # 3\n",
    "    return result\n",
    "\n",
    "res = my_function(a,b,c,d)\n",
    "print(\"Ergebnis der Berechnung: {}\".format(result.numpy()))"
   ],
   "metadata": {
    "collapsed": false,
    "pycharm": {
     "name": "#%%\n"
    }
   }
  },
  {
   "cell_type": "markdown",
   "source": [
    "#### Code der von Autograph der Tensorflow 2.0 Bibliothek generiert wurde"
   ],
   "metadata": {
    "collapsed": false,
    "pycharm": {
     "name": "#%% md\n"
    }
   }
  },
  {
   "cell_type": "code",
   "execution_count": 58,
   "outputs": [
    {
     "name": "stdout",
     "output_type": "stream",
     "text": [
      "def tf__my_function(a, b, c, d):\n",
      "    with ag__.FunctionScope('my_function', 'fscope', ag__.ConversionOptions(recursive=True, user_requested=True, optional_features=(), internal_convert_user_code=True)) as fscope:\n",
      "        do_return = False\n",
      "        retval_ = ag__.UndefinedReturnValue()\n",
      "        x_1 = ag__.converted_call(ag__.ld(tf).multiply, (ag__.ld(a), ag__.ld(b), 'Multiplikation'), None, fscope)\n",
      "        x_2 = ag__.converted_call(ag__.ld(tf).add, (ag__.ld(c), ag__.ld(d), 'Addieren'), None, fscope)\n",
      "        x_3 = ag__.converted_call(ag__.ld(tf).subtract, (ag__.ld(x_1), ag__.ld(x_2), 'Subtrahieren'), None, fscope)\n",
      "        result = ag__.converted_call(ag__.ld(tf).sqrt, (ag__.ld(x_3), 'Wurzel'), None, fscope)\n",
      "        try:\n",
      "            do_return = True\n",
      "            retval_ = ag__.ld(result)\n",
      "        except:\n",
      "            do_return = False\n",
      "            raise\n",
      "        return fscope.ret(retval_, do_return)\n",
      "\n"
     ]
    }
   ],
   "source": [
    "print(tf.autograph.to_code(my_function.python_function))"
   ],
   "metadata": {
    "collapsed": false,
    "pycharm": {
     "name": "#%%\n"
    }
   }
  },
  {
   "cell_type": "markdown",
   "source": [
    "### Visualisierung von Graphen"
   ],
   "metadata": {
    "collapsed": false,
    "pycharm": {
     "name": "#%% md\n"
    }
   }
  },
  {
   "cell_type": "code",
   "execution_count": 59,
   "outputs": [
    {
     "name": "stdout",
     "output_type": "stream",
     "text": [
      "WARNING:tensorflow:Trace already enabled\n"
     ]
    }
   ],
   "source": [
    "tf.summary.trace_on(graph=True, profiler=True)\n",
    "\n",
    "writer = tf.summary.create_file_writer(\"./logs\")\n",
    "with writer.as_default():\n",
    "    tf.summary.trace_export(\n",
    "        name=\"export\",\n",
    "        step=0,\n",
    "        profiler_outdir=\"./logs\"\n",
    "    )"
   ],
   "metadata": {
    "collapsed": false,
    "pycharm": {
     "name": "#%%\n"
    }
   }
  },
  {
   "cell_type": "markdown",
   "source": [
    "### Benutzung der CPU bzw. GPU"
   ],
   "metadata": {
    "collapsed": false,
    "pycharm": {
     "name": "#%% md\n"
    }
   }
  },
  {
   "cell_type": "code",
   "execution_count": 60,
   "outputs": [
    {
     "name": "stdout",
     "output_type": "stream",
     "text": [
      "GPU vorhanden? True\n",
      "Devices: [PhysicalDevice(name='/physical_device:CPU:0', device_type='CPU'), PhysicalDevice(name='/physical_device:GPU:0', device_type='GPU')]\n"
     ]
    }
   ],
   "source": [
    "tf.debugging.set_log_device_placement(True)\n",
    "\n",
    "def get_GPU_CPU_details():\n",
    "    print(\"GPU vorhanden?\", tf.test.is_gpu_available())\n",
    "    print(\"Devices:\", tf.config.experimental.list_physical_devices())\n",
    "\n",
    "get_GPU_CPU_details()"
   ],
   "metadata": {
    "collapsed": false,
    "pycharm": {
     "name": "#%%\n"
    }
   }
  }
 ],
 "metadata": {
  "kernelspec": {
   "display_name": "Python 3",
   "language": "python",
   "name": "python3"
  },
  "language_info": {
   "codemirror_mode": {
    "name": "ipython",
    "version": 2
   },
   "file_extension": ".py",
   "mimetype": "text/x-python",
   "name": "python",
   "nbconvert_exporter": "python",
   "pygments_lexer": "ipython2",
   "version": "2.7.6"
  }
 },
 "nbformat": 4,
 "nbformat_minor": 0
}
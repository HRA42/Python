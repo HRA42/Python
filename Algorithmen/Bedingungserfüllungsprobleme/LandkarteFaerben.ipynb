{
 "cells": [
  {
   "cell_type": "markdown",
   "metadata": {
    "pycharm": {
     "name": "#%% md\n"
    }
   },
   "source": [
    "# Die Landkarte Australiens einfärben\n",
    "- Einfärbung nach Regionen (Staat / Territorium)\n",
    "- keine angrenze Region soll die gleiche Farbe haben\n",
    "- maxmimal 3 Unterschiedliche Farben\n",
    "- Variablen:\n",
    "    - 7 Regionen von Australien (beschränkung aufgrund von Komplexität):\n",
    "        1. Western Australia\n",
    "        2. Northern Territory\n",
    "        3. South Australia\n",
    "        4. Queensland\n",
    "        5. New South Wales\n",
    "        6. Victoria\n",
    "        7. Tasmania\n",
    "    - Können durch Strings modelliert werden\n",
    "- Domänen:\n",
    "    - 3 Farben:\n",
    "        1. Rot\n",
    "        2. Grün\n",
    "        3. Blau\n",
    "- Bedingungen:\n",
    "    - Welche Regionen grenzen aneinander?\n",
    "        - Binärbedingungen (Bedingungen zwischen zwei Variablen)\n",
    "        - Wenn gemeinsame Grenze, dann nicht die gleiche Farbe\n",
    "        - in Code:\n",
    "            - Unterklasse von Constraint\n",
    "                - MapColoringConstraint nimmt 2 Variablen entgegen:\n",
    "                    - die beiden Regionen, mit einer gemeinsamen Grenze\n",
    "                - Methode Satisfied überprüft ob einer Region bereits ein Domänenwert (Farbe) zugordnet wurde\n",
    "                    - wenn noch keine Farbe zugewiesen wurde, dann gibt es keinen Konflikt\n",
    "                    - wenn beide Regionen die identische Farbe haben, dann ist die Bedingung nicht erfüllt"
   ]
  },
  {
   "cell_type": "code",
   "execution_count": 1,
   "metadata": {
    "pycharm": {
     "name": "#%%\n"
    }
   },
   "outputs": [],
   "source": [
    "from csp import Constraint, CSP\n",
    "from typing import Dict, List, Optional\n",
    "\n",
    "class MapColoringConstraint(Constraint[str, str]):\n",
    "    def __init__(self, place1: str, place2: str) -> None:\n",
    "        super().__init__([place1, place2])\n",
    "        self.place1: str = place1\n",
    "        self.place2: str = place2\n",
    "    def satisfied(self, assignment: Dict[str, str]) -> bool:\n",
    "        # Wenn einer der beiden Orte nicht nicht in der Zuordnung ist, kann es keinen Konflikt geben\n",
    "        if self.place1 not in assignment or self.place2 not in assignment:\n",
    "            return True\n",
    "        # Prüfung, ob die Place1 zugrodnetete Farbe nicht dieselbe ist wie die Place2 zugrodnete Farbe\n",
    "        return assignment[self.place1] != assignment[self.place2]"
   ]
  },
  {
   "cell_type": "markdown",
   "metadata": {
    "pycharm": {
     "name": "#%% md\n"
    }
   },
   "source": [
    "---\n",
    "\n",
    "## Ausführung"
   ]
  },
  {
   "cell_type": "code",
   "execution_count": 2,
   "metadata": {
    "pycharm": {
     "name": "#%%\n"
    }
   },
   "outputs": [
    {
     "name": "stdout",
     "output_type": "stream",
     "text": [
      "{'Western Australia': 'rot', 'Northern Territory': 'grün', 'South Australia': 'blau', 'Queensland': 'rot', 'New South Wales': 'grün', 'Victoria': 'rot', 'Tasmania': 'grün'}\n"
     ]
    }
   ],
   "source": [
    "if __name__ == \"__main__\":\n",
    "    variables: List[str] = [\"Western Australia\", \"Northern Territory\", \"South Australia\", \"Queensland\", \"New South Wales\", \"Victoria\", \"Tasmania\"]\n",
    "    domains: Dict[str, List[str]] = {}\n",
    "    for variable in variables:\n",
    "        domains[variable] = [\"rot\", \"grün\", \"blau\"]\n",
    "    csp: CSP[str, str] = CSP(variables, domains)\n",
    "    csp.add_constraint(MapColoringConstraint(\"Western Australia\", \"Northern Territory\"))\n",
    "    csp.add_constraint(MapColoringConstraint(\"Western Australia\", \"South Australia\"))\n",
    "    csp.add_constraint(MapColoringConstraint(\"South Australia\", \"Northern Territory\"))\n",
    "    csp.add_constraint(MapColoringConstraint(\"Queensland\", \"Northern Territory\"))\n",
    "    csp.add_constraint(MapColoringConstraint(\"Queensland\", \"South Australia\"))\n",
    "    csp.add_constraint(MapColoringConstraint(\"Queensland\", \"New South Wales\"))\n",
    "    csp.add_constraint(MapColoringConstraint(\"New South Wales\", \"South Australia\"))\n",
    "    csp.add_constraint(MapColoringConstraint(\"Victoria\", \"South Australia\"))\n",
    "    csp.add_constraint(MapColoringConstraint(\"Victoria\", \"New South Wales\"))\n",
    "    csp.add_constraint(MapColoringConstraint(\"Victoria\", \"Tasmania\"))\n",
    "    solution: Optional[Dict[str, str]] = csp.backtracking_search()\n",
    "    if solution is None:\n",
    "        print(\"Keine Lösung gefunden\")\n",
    "    else:\n",
    "        print(solution)"
   ]
  }
 ],
 "metadata": {
  "kernelspec": {
   "display_name": "Python 3.10.5 64-bit",
   "language": "python",
   "name": "python3"
  },
  "language_info": {
   "codemirror_mode": {
    "name": "ipython",
    "version": 3
   },
   "file_extension": ".py",
   "mimetype": "text/x-python",
   "name": "python",
   "nbconvert_exporter": "python",
   "pygments_lexer": "ipython3",
   "version": "3.10.5"
  },
  "orig_nbformat": 4,
  "vscode": {
   "interpreter": {
    "hash": "916dbcbb3f70747c44a77c7bcd40155683ae19c65e1c03b4aa3499c5328201f1"
   }
  }
 },
 "nbformat": 4,
 "nbformat_minor": 2
}
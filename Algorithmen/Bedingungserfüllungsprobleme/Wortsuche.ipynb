{
 "cells": [
  {
   "cell_type": "markdown",
   "metadata": {},
   "source": [
    "# Wortsuche\n",
    "- Eine Wortsuche ist ein Gitternetz von Buchstaben, indem entlang von Zeilen, Spalten und Diagonalen Wörter versteckt werden\n",
    "- Ziel: Alle versteckten Wörter zu finden\n",
    "- Variablen: Wörter\n",
    "- Domänen: Mögliche Orte dieser Wörter\n",
    "- keine Überschneidenen Wörter\n",
    "- Ähnlich zu Labyrinth Lösungen\n",
    "- Gitternetz wird am Anfang mit Buchstaben gefüllt\n",
    "- Eine Funktion zum Anzeigen des Gitternetzes wird benötigt"
   ]
  },
  {
   "cell_type": "code",
   "execution_count": 1,
   "metadata": {},
   "outputs": [],
   "source": [
    "from typing import NamedTuple, List, Dict, Optional\n",
    "from random import choice\n",
    "from string import ascii_uppercase\n",
    "from csp import CSP, Constraint\n",
    "\n",
    "Grid = List[List[str]]  # Typ-Alias für Gitternetze\n",
    "\n",
    "\n",
    "class GridLocation(NamedTuple):\n",
    "    row: int\n",
    "    column: int\n",
    "\n",
    "\n",
    "def generate_grid(rows: int, columns: int) -> Grid:\n",
    "    # Gitternetz mit zufälligen Buchstaben initialisieren\n",
    "    return [[choice(ascii_uppercase) for c in range(columns)] for r in range(rows)]\n",
    "\n",
    "\n",
    "def display_grid(grid: Grid) -> None:\n",
    "    for row in grid:\n",
    "        print(\"\".join(row))\n",
    "\n",
    "\n",
    "def generate_domain(word: str, grid: Grid) -> List[List[GridLocation]]:\n",
    "    domain: List[List[GridLocation]] = []\n",
    "    height: int = len(grid)\n",
    "    width: int = len(grid[0])\n",
    "    length: int = len(word)\n",
    "    for row in range(height):\n",
    "        for col in range(width):\n",
    "            columns: range = range(col, col + length)\n",
    "            rows: range = range(row, row + length)\n",
    "            if col + length <= width:\n",
    "                # Von links nach rechts\n",
    "                domain.append([GridLocation(row, c) for c in columns])\n",
    "                # Diagonal nach rechts unten\n",
    "                if row + length <= height:\n",
    "                    domain.append([GridLocation(r, col + (r - row)) for r in rows])\n",
    "            if row + length <= height:\n",
    "                # Von oben nach unten\n",
    "                domain.append([GridLocation(r, col) for r in rows])\n",
    "                # Diagonal nach unten links \n",
    "                if col - length >= 0:\n",
    "                    domain.append([GridLocation(r, col - (r - row)) for r in rows])\n",
    "    return domain\n",
    "\n",
    "\n",
    "class WordSearchConstraint(Constraint[str, List[GridLocation]]):\n",
    "    def __init__(self, words: List[str]) -> None:\n",
    "        super().__init__(words)\n",
    "        self.words: List[str] = words\n",
    "\n",
    "    def satisfied(self, assignment: Dict[str, List[GridLocation]]) -> bool:\n",
    "        # Wenn es doppelte Gitternetzpositionen gibt, besteht eine Überschneidung\n",
    "        all_locations = [locs for values in assignment.values() for locs in values]\n",
    "        return len(set(all_locations)) == len(all_locations)\n"
   ]
  },
  {
   "cell_type": "markdown",
   "metadata": {},
   "source": [
    "## Programmaufruf"
   ]
  },
  {
   "cell_type": "code",
   "execution_count": 2,
   "metadata": {},
   "outputs": [
    {
     "name": "stdout",
     "output_type": "stream",
     "text": [
      "WEHTTAMEM\n",
      "HARASSZOA\n",
      "XMGXSANJR\n",
      "VVGYGLLKY\n",
      "NKNPOLAOJ\n",
      "PMLMHYTOQ\n",
      "LTYEVNBVA\n",
      "VSQJIVLLJ\n",
      "CIRXRPTNN\n"
     ]
    }
   ],
   "source": [
    "if __name__ == \"__main__\":\n",
    "    grid: Grid = generate_grid(9, 9)\n",
    "    words: List[str] = [\"MATTHEW\", \"JOE\", \"MARY\", \"SARAH\", \"SALLY\"]\n",
    "    locations: Dict[str, List[List[GridLocation]]] = {}\n",
    "    for word in words:\n",
    "        locations[word] = generate_domain(word, grid)\n",
    "    csp: CSP[str, List[GridLocation]] = CSP(words, locations)\n",
    "    csp.add_constraint(WordSearchConstraint(words))\n",
    "    solution: Optional[Dict[str, List[GridLocation]]] = csp.backtracking_search()\n",
    "    if solution is None:\n",
    "        print(\"Keine Lösung gefunden!\")\n",
    "    else:\n",
    "        for word, grid_locations in solution.items():\n",
    "            # Die Hälfte der Fälle zufällig umdrehen\n",
    "            if choice([True, False]):\n",
    "                grid_locations.reverse()\n",
    "            for index, letter in enumerate(word):\n",
    "                (row, col) = (grid_locations[index].row, grid_locations[index].column)\n",
    "                grid[row][col] = letter\n",
    "        display_grid(grid)"
   ]
  }
 ],
 "metadata": {
  "kernelspec": {
   "display_name": "Python 3.10.5 64-bit",
   "language": "python",
   "name": "python3"
  },
  "language_info": {
   "codemirror_mode": {
    "name": "ipython",
    "version": 3
   },
   "file_extension": ".py",
   "mimetype": "text/x-python",
   "name": "python",
   "nbconvert_exporter": "python",
   "pygments_lexer": "ipython3",
   "version": "3.10.5"
  },
  "orig_nbformat": 4,
  "vscode": {
   "interpreter": {
    "hash": "916dbcbb3f70747c44a77c7bcd40155683ae19c65e1c03b4aa3499c5328201f1"
   }
  }
 },
 "nbformat": 4,
 "nbformat_minor": 2
}

{
 "cells": [
  {
   "cell_type": "markdown",
   "metadata": {},
   "source": [
    "# SEND + MORE = MONEY\n",
    "- Buchstaben sollen so durch Ziffern ersetzen das die Aussage wahr wird"
   ]
  },
  {
   "cell_type": "code",
   "execution_count": 3,
   "metadata": {},
   "outputs": [],
   "source": [
    "from csp import Constraint, CSP\n",
    "from typing import Dict, List, Optional\n",
    "\n",
    "class SendMoreMoneyConstraint(Constraint[str, int]):\n",
    "    def __init__(self, letters: List[str]) -> None:\n",
    "        super().__init__(letters)\n",
    "        self.letters: List[str] = letters\n",
    "    def satisfied(self, assignment: Dict[str, int]) -> bool:\n",
    "        # Wenn es doppelte Werte gibt, ist es keine Lösung\n",
    "        if len(set(assignment.values())) < len(assignment):\n",
    "            return False\n",
    "        # Wenn alle Variablen zugeordnet wurden prüfen, ob die Summe stimmt\n",
    "        if len(assignment) == len(self.letters):\n",
    "            s: int = assignment[\"S\"]\n",
    "            e: int = assignment[\"E\"]\n",
    "            n: int = assignment[\"N\"]\n",
    "            d: int = assignment[\"D\"]\n",
    "            m: int = assignment[\"M\"]\n",
    "            o: int = assignment[\"O\"]\n",
    "            r: int = assignment[\"R\"]\n",
    "            y: int = assignment[\"Y\"]\n",
    "            send: int = s * 1000 + e * 100 + n * 10 + d\n",
    "            more: int = m * 1000 + o * 100 + r * 10 + e\n",
    "            money: int = m * 10000 + o * 1000 + n * 100 + e * 10 + y\n",
    "            return send + more == money\n",
    "        return True # kein Konflikt"
   ]
  },
  {
   "cell_type": "markdown",
   "metadata": {},
   "source": [
    "## Aufruf"
   ]
  },
  {
   "cell_type": "code",
   "execution_count": 4,
   "metadata": {},
   "outputs": [
    {
     "name": "stdout",
     "output_type": "stream",
     "text": [
      "{'S': 2, 'E': 8, 'N': 1, 'D': 7, 'M': 0, 'O': 3, 'R': 6, 'Y': 5}\n"
     ]
    }
   ],
   "source": [
    "if __name__ == \"__main__\":\n",
    "    letters: List[str] = [\"S\", \"E\", \"N\", \"D\", \"M\", \"O\", \"R\", \"Y\"]\n",
    "    possible_digits: Dict[str, List[int]] = {}\n",
    "    for letter in letters:\n",
    "        possible_digits[letter] = [0, 1, 2, 3, 4, 5, 6, 7, 8, 9]\n",
    "    possible_digits[\"M\"] = [1]\n",
    "    # Damit wird keine Antworten erhalten, die mit 0 Anfangen\n",
    "    csp: CSP[str, int] = CSP(letters, possible_digits)\n",
    "    csp.add_constraint(SendMoreMoneyConstraint(letters))\n",
    "    solution: Optional[Dict[str, int]] = csp.backtracking_search()\n",
    "    if solution is None:\n",
    "        print(\"Keine Lösung gefunden\")\n",
    "    else:\n",
    "        print(solution)"
   ]
  }
 ],
 "metadata": {
  "kernelspec": {
   "display_name": "Python 3.9.2 64-bit",
   "language": "python",
   "name": "python3"
  },
  "language_info": {
   "codemirror_mode": {
    "name": "ipython",
    "version": 3
   },
   "file_extension": ".py",
   "mimetype": "text/x-python",
   "name": "python",
   "nbconvert_exporter": "python",
   "pygments_lexer": "ipython3",
   "version": "3.9.2"
  },
  "orig_nbformat": 4,
  "vscode": {
   "interpreter": {
    "hash": "916dbcbb3f70747c44a77c7bcd40155683ae19c65e1c03b4aa3499c5328201f1"
   }
  }
 },
 "nbformat": 4,
 "nbformat_minor": 2
}

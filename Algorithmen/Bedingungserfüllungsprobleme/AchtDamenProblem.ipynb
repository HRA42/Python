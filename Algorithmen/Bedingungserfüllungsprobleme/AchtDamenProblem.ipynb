{
 "cells": [
  {
   "cell_type": "markdown",
   "metadata": {},
   "source": [
    "# Das Acht-Damen-Problem\n",
    "- Schachbrett ist ein Muster von 8 mal 8 Quadraten\n",
    "- Dame: Kann sich waagerecht, senkrecht oder diagonal bewegen, bedroht eine Figur wenn sie diese mit einem Zug erreichen kann, ohne eine Figur zu überspringen\n",
    "- Können 8 Damen so platziert werden, dass diese sich nicht bedrohen\n",
    "\n",
    "---"
   ]
  },
  {
   "cell_type": "markdown",
   "metadata": {},
   "source": [
    " ## Lösungsidee\n",
    " - Bedingung die prüft ob 2 beliebige Damen in der selben Zeile oder Diagonalen befinden\n",
    " - Wenn 2 Damen sich in der selben Diagonalen befinden, ist die Differenz zwischen ihren Zeilen gleich der Differenz ihrer Spalten"
   ]
  },
  {
   "cell_type": "code",
   "execution_count": 1,
   "metadata": {},
   "outputs": [],
   "source": [
    "from csp import Constraint, CSP\n",
    "from typing import Dict, List, Optional\n",
    "\n",
    "class QueensConstraint(Constraint[int, int]):\n",
    "    def __init__(self, columns: List[int]) -> None:\n",
    "        super().__init__(columns)\n",
    "        self.columns: List[int] = columns\n",
    "    def satisfied(self, assignment: Dict[int, int]) -> bool:\n",
    "        # q1c Spalte1. Dame. q1r: Zeile 1. Dame.\n",
    "        for q1c, q1r in assignment.items():\n",
    "            # q2c = Spalte2. Dame\n",
    "            for q2c in range(q1c + 1, len(self.columns)):\n",
    "                if q2c in assignment:\n",
    "                    q2r: int = assignment[q2c] # q2r = Zeile 2. Dame\n",
    "                    if q1r == q2r: # Dieselbe Zeile\n",
    "                        return False\n",
    "                    if q1c == q2c or q1r == q2r or abs(q1c - q2c) == abs(q1r - q2r):\n",
    "                        return False\n",
    "        return True # kein Konflikt"
   ]
  },
  {
   "cell_type": "markdown",
   "metadata": {},
   "source": [
    "---\n",
    "\n",
    "## Umsetzung in Code\n",
    "- Felder werden als Ganz Zahl Zeilen und Spalten dargestellt\n",
    "- Variablen können die jeweiligen Spalten der Damen sein\n",
    "- Domänen sind die jeweiligen Zeilen sein\n",
    "- So entsteht eine Eindeutige zuordnung auf einem Schachbrett"
   ]
  },
  {
   "cell_type": "code",
   "execution_count": 2,
   "metadata": {},
   "outputs": [
    {
     "name": "stdout",
     "output_type": "stream",
     "text": [
      "{1: 1, 2: 3, 3: 5, 4: 7, 5: 2, 6: 4, 7: 6, 8: 1}\n"
     ]
    }
   ],
   "source": [
    "if __name__ == \"__main__\":\n",
    "    columns: List[int] = [1, 2, 3, 4, 5, 6, 7, 8]\n",
    "    rows: Dict[int, List[int]] = {}\n",
    "    for column in columns:\n",
    "        rows[column] = [1, 2, 3, 4, 5, 6, 7, 8]\n",
    "    csp: CSP[int, int] = CSP(columns, rows)\n",
    "    csp.add_constraint(QueensConstraint(columns))\n",
    "    solution: Optional[Dict[int, int]] = csp.backtracking_search()\n",
    "    if solution is None:\n",
    "        print(\"Keine Lösung gefunden\")\n",
    "    else:\n",
    "        print(solution)"
   ]
  }
 ],
 "metadata": {
  "kernelspec": {
   "display_name": "Python 3.10.5 64-bit",
   "language": "python",
   "name": "python3"
  },
  "language_info": {
   "codemirror_mode": {
    "name": "ipython",
    "version": 3
   },
   "file_extension": ".py",
   "mimetype": "text/x-python",
   "name": "python",
   "nbconvert_exporter": "python",
   "pygments_lexer": "ipython3",
   "version": "3.9.2"
  },
  "orig_nbformat": 4,
  "vscode": {
   "interpreter": {
    "hash": "916dbcbb3f70747c44a77c7bcd40155683ae19c65e1c03b4aa3499c5328201f1"
   }
  }
 },
 "nbformat": 4,
 "nbformat_minor": 2
}

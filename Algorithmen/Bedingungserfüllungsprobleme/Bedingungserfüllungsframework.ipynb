{
 "cells": [
  {
   "cell_type": "markdown",
   "metadata": {},
   "source": [
    "# Bedingungserfüllungsprobleme\n",
    "- Englisch: Constraint-Satisfaction-Problems [Kurz: CSPs]\n",
    "- bestehen aus:\n",
    "    - Variablen\n",
    "    - Domänen (Wertebereiche für Variablen)\n",
    "    - Bedingungen zwischen Variablen\n",
    "        - müssen erfüllt sein um das Problem zu lösen\n",
    "- Beispiel:\n",
    "    - Freitagsmeeting für 3 Personen planen\n",
    "    - 3 Personen als Variablen\n",
    "        - Joe\n",
    "        - Mary\n",
    "        - Sue\n",
    "    - Die Domäne ist die Verfügbarkeit der 3 Personen\n",
    "        - z.B.: für Mary: 14, 15, 16 Uhr\n",
    "    - 2 Bedingungen:\n",
    "        1. Sue muss teilnehmen\n",
    "        2. mind. 2 Personen müssen teilnehmen\n",
    "---"
   ]
  },
  {
   "cell_type": "markdown",
   "metadata": {},
   "source": [
    "## Framework für Bedingungserfüllungsprobleme\n",
    "- Bedingungen werden mit einer Constraint Klasse definiert\n",
    "- Jede Bedingung besteht aus den Variablen für die sie Bedingungen setzen\n",
    "- Methode \"erfüllt\" überprüft ob die Bedingung erfüllt ist\n",
    "- Hauptlogik: \n",
    "    - Prüfung ob eine Bedingung erfüllt ist"
   ]
  },
  {
   "cell_type": "code",
   "execution_count": 1,
   "metadata": {},
   "outputs": [],
   "source": [
    "from typing import Generic, TypeVar, Dict, List, Optional\n",
    "from abc import ABC, abstractmethod\n",
    "\n",
    "V = TypeVar('V') # Variablentyp\n",
    "D = TypeVar('D') # Domänentyp\n",
    "\n",
    "# Basisklasse für alle Bedingungen\n",
    "class Constraint(Generic[V, D], ABC):\n",
    "    def __init__(self, variables: List[V]) -> None:\n",
    "        self.variables = variables\n",
    "    # muss von Unterklassen überschrieben werden!\n",
    "    @abstractmethod\n",
    "    def satisfied(self, assignment: Dict[V, D]) -> bool:\n",
    "        pass"
   ]
  },
  {
   "cell_type": "markdown",
   "metadata": {},
   "source": [
    "- Abstrakte Basisklasseen dienen als Vorlagen für Klassenhierarchie\n",
    "- nur für Frameworks nicht für Klassenhirarchie gedacht in Python!\n",
    "- Backtracking Algorythmus für die Lösung für Probleme zu finden\n",
    "    - Immer wenn ein Ergebnis nicht das Ziel ist wird zun letzten Entscheidungspunkt zurück gegeangen\n",
    "    - Ähnlich der Tiefensuche\n",
    "    - Rekursive Tiefensuche"
   ]
  },
  {
   "cell_type": "code",
   "execution_count": 2,
   "metadata": {},
   "outputs": [],
   "source": [
    "class CSP(Generic[V, D]):\n",
    "    def __init__(self, variables: List[V], domains: Dict[V, List[D]]) -> None:\n",
    "        self.variables: List[V] = variables\n",
    "        self.domains: Dict[V, List[D]] = domains\n",
    "        self.constraints: Dict[V, List[Constraint[V, D]]] = {}\n",
    "        for variable in self.variables:\n",
    "            self.constraints[variable] = []\n",
    "            if variable not in self.domains:\n",
    "                raise LookupError(\"Jeder Variablen sollte einer Domäne zugewiesen sein.\")\n",
    "    def add_constraint(self, constraint: Constraint[V, D]) -> None:\n",
    "        for variable in constraint.variables:\n",
    "            if variable not in self.variables:\n",
    "                raise LookupError(\"Jeder Variable in Bedingung nicht in CSP.\")\n",
    "            else:\n",
    "                self.constraints[variable].append(constraint)\n",
    "    def consistent(self, variable: V, assignment: Dict[V, D]) -> bool:\n",
    "        for constraint in self.constraints[variable]:\n",
    "            if not constraint.satisfied(assignment):\n",
    "                return False\n",
    "        return True\n",
    "    def backtracking_search(self, assignment: Dict[V, D] = {}) -> Optional[Dict[V, D]]:\n",
    "        # Zuordnung vollständig, wenn jede Viariable zugeordnet ist (Abbruchbedingung)\n",
    "        if len(assignment) == len(self.variables):\n",
    "            return assignment\n",
    "        # Alle Variablen holen, die im CSP, aber in keiner Zuordnung sind\n",
    "        unassigned: List[V] = [v for v in self.variables if v not in assignment]\n",
    "        # Jedem möglichen Domänenwert der ersten nicht zugeordneten Variable holen\n",
    "        first: V = unassigned[0]\n",
    "        for value in self.domains[first]:\n",
    "            local_assignment = assignment.copy()\n",
    "            local_assignment[first] = value\n",
    "            # Wenn wir noch konsistent sind, Rekursion (fortfahren)\n",
    "            if self.consistent(first, local_assignment):\n",
    "                result: Optional[Dict[V, D]] = self.backtracking_search(local_assignment)\n",
    "                # Wenn wir das Ergebnis nicht gefunden haben, backtracking\n",
    "                if result is not None:\n",
    "                    return result\n",
    "        return None"
   ]
  }
 ],
 "metadata": {
  "kernelspec": {
   "display_name": "Python 3.10.5 64-bit",
   "language": "python",
   "name": "python3"
  },
  "language_info": {
   "codemirror_mode": {
    "name": "ipython",
    "version": 3
   },
   "file_extension": ".py",
   "mimetype": "text/x-python",
   "name": "python",
   "nbconvert_exporter": "python",
   "pygments_lexer": "ipython3",
   "version": "3.10.5"
  },
  "orig_nbformat": 4,
  "vscode": {
   "interpreter": {
    "hash": "916dbcbb3f70747c44a77c7bcd40155683ae19c65e1c03b4aa3499c5328201f1"
   }
  }
 },
 "nbformat": 4,
 "nbformat_minor": 2
}

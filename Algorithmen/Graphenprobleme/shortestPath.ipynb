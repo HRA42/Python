{
 "cells": [
  {
   "cell_type": "markdown",
   "source": [
    "# Der kürzeste Pfad\n",
    "- genutzt wird der Dijkstra-Algorithmus"
   ],
   "metadata": {
    "collapsed": false,
    "pycharm": {
     "name": "#%% md\n"
    }
   }
  },
  {
   "cell_type": "code",
   "execution_count": 1,
   "metadata": {
    "collapsed": true,
    "pycharm": {
     "name": "#%%\n"
    }
   },
   "outputs": [],
   "source": [
    "from __future__ import annotations\n",
    "from typing import TypeVar, List, Optional, Tuple, Dict\n",
    "from dataclasses import dataclass\n",
    "from mst import WeightedPath, print_weighted_path\n",
    "from weighted_graph import WeightedGraph\n",
    "from weighted_edge import WeightedEdge\n",
    "from Notebooks.Suche.generic_search import PriorityQueue\n",
    "\n",
    "V = TypeVar('V')  # Typ der Knoten im Graphen\n",
    "\n",
    "\n",
    "@dataclass\n",
    "class DijkstraNode:\n",
    "    vertex: int\n",
    "    distance: float\n",
    "\n",
    "    def __lt__(self, other: DijkstraNode) -> bool:\n",
    "        return self.distance < other.distance\n",
    "\n",
    "    def __eq__(self, other: DijkstraNode) -> bool:\n",
    "        return self.distance == other.distance\n",
    "\n",
    "\n",
    "def dijkstra(wg: WeightedGraph[V], root: V) -> Tuple[List[Optional[float]], Dict[int, WeightedEdge]]:\n",
    "    first: int = wg.index_of(root)  # Den Startindex finden\n",
    "    # Die Entfernungen sind zunächst unbekannt\n",
    "    distances: List[Optional[float]] = [None] * wg.vertex_count\n",
    "    distances[first] = 0  # Die Wurzel ist 0 von der Wurzel entfernt\n",
    "    path_dict: Dict[int, WeightedEdge] = {}  # Wie wir zu jedem Knoten gelangten\n",
    "    pq: PriorityQueue[DijkstraNode] = PriorityQueue()\n",
    "    pq.push(DijkstraNode(first, 0))\n",
    "\n",
    "    while not pq.empty:\n",
    "        u: int = pq.pop().vertex  # Den nächstgelegenen Knoten erforschen\n",
    "        dist_u: float = distances[u]  # Sollten wir bereits gesehen haben\n",
    "        # Alle Kanten/Knoten vom fraglichen Knoten aus betrachten\n",
    "        for we in wg.edges_for_index(u):\n",
    "            # Die alte Entfernung zu diesem Knoten\n",
    "            dist_v: float = distances[we.v]\n",
    "            # Keine alte Entfernung oder kürzeren Pfad gefunden\n",
    "            if dist_v is None or dist_v > we.weight + dist_u:\n",
    "                # Entfernung zu diesem Knoten aktualisieren\n",
    "                distances[we.v] = we.weight + dist_u\n",
    "                # Kante auf dem kürzesten Pfad zu diesem Knoten aktualisieren\n",
    "                path_dict[we.v] = we\n",
    "                # Diesen Knoten bald erforschen\n",
    "                pq.push(DijkstraNode(we.v, we.weight + dist_u))\n",
    "\n",
    "    return distances, path_dict\n",
    "\n",
    "\n",
    "# Hilfsfunktion, die den Zugriff auf Dijkstra-Ergebnisse erleichtert\n",
    "def distance_array_to_vertex_dict(wg: WeightedGraph[V], distances: List[Optional[float]]) -> Dict[V, Optional[float]]:\n",
    "    distance_dict: Dict[V, Optional[float]] = {}\n",
    "    for i in range(len(distances)):\n",
    "        distance_dict[wg.vertex_at(i)] = distances[i]\n",
    "    return distance_dict\n",
    "\n",
    "\n",
    "# Nimmt ein Dictionary von Kanten zum Erreichen jedes Knotens entgegen\n",
    "# und gibt eine Liste von Kanten zurück, die von `start` zu `end` führen\n",
    "def path_dict_to_path(start: int, end: int, path_dict: Dict[int, WeightedEdge]) -> WeightedPath:\n",
    "    if len(path_dict) == 0:\n",
    "        return []\n",
    "    edge_path: WeightedPath = []\n",
    "    e: WeightedEdge = path_dict[end]\n",
    "    edge_path.append(e)\n",
    "    while e.u != start:\n",
    "        e = path_dict[e.u]\n",
    "        edge_path.append(e)\n",
    "    return list(reversed(edge_path))"
   ]
  },
  {
   "cell_type": "markdown",
   "source": [
    "## Ausführung des Codes"
   ],
   "metadata": {
    "collapsed": false,
    "pycharm": {
     "name": "#%% md\n"
    }
   }
  },
  {
   "cell_type": "code",
   "execution_count": 2,
   "outputs": [
    {
     "name": "stdout",
     "output_type": "stream",
     "text": [
      "Entfernungen von Los Angeles:\n",
      "Seattle : 1026\n",
      "San Francisco : 348\n",
      "Los Angeles : 0\n",
      "Riverside : 50\n",
      "Phoenix : 357\n",
      "Chicago : 1754\n",
      "Boston : 2605\n",
      "New York : 2474\n",
      "Atlanta : 1965\n",
      "Miami : 2340\n",
      "Dallas : 1244\n",
      "Houston : 1372\n",
      "Detroit : 1992\n",
      "Philadelphia : 2511\n",
      "Washington : 2388\n",
      "\n",
      "Kürzester Pfad von Los Angeles nach Boston:\n",
      "Los Angeles 50> Riverside\n",
      "Riverside 1704> Chicago\n",
      "Chicago 238> Detroit\n",
      "Detroit 613> Boston\n",
      "Gesamtgewicht: 2605\n"
     ]
    }
   ],
   "source": [
    "if __name__ == \"__main__\":\n",
    "    city_graph2: WeightedGraph[str] = WeightedGraph([\"Seattle\", \"San Francisco\", \"Los Angeles\", \"Riverside\", \"Phoenix\", \"Chicago\", \"Boston\", \"New York\", \"Atlanta\", \"Miami\", \"Dallas\", \"Houston\", \"Detroit\", \"Philadelphia\", \"Washington\"])\n",
    "\n",
    "    city_graph2.add_edge_by_vertices(\"Seattle\", \"Chicago\", 1737)\n",
    "    city_graph2.add_edge_by_vertices(\"Seattle\", \"San Francisco\", 678)\n",
    "    city_graph2.add_edge_by_vertices(\"San Francisco\", \"Riverside\", 386)\n",
    "    city_graph2.add_edge_by_vertices(\"San Francisco\", \"Los Angeles\", 348)\n",
    "    city_graph2.add_edge_by_vertices(\"Los Angeles\", \"Riverside\", 50)\n",
    "    city_graph2.add_edge_by_vertices(\"Los Angeles\", \"Phoenix\", 357)\n",
    "    city_graph2.add_edge_by_vertices(\"Riverside\", \"Phoenix\", 307)\n",
    "    city_graph2.add_edge_by_vertices(\"Riverside\", \"Chicago\", 1704)\n",
    "    city_graph2.add_edge_by_vertices(\"Phoenix\", \"Dallas\", 887)\n",
    "    city_graph2.add_edge_by_vertices(\"Phoenix\", \"Houston\", 1015)\n",
    "    city_graph2.add_edge_by_vertices(\"Dallas\", \"Chicago\", 805)\n",
    "    city_graph2.add_edge_by_vertices(\"Dallas\", \"Atlanta\", 721)\n",
    "    city_graph2.add_edge_by_vertices(\"Dallas\", \"Houston\", 225)\n",
    "    city_graph2.add_edge_by_vertices(\"Houston\", \"Atlanta\", 702)\n",
    "    city_graph2.add_edge_by_vertices(\"Houston\", \"Miami\", 968)\n",
    "    city_graph2.add_edge_by_vertices(\"Atlanta\", \"Chicago\", 588)\n",
    "    city_graph2.add_edge_by_vertices(\"Atlanta\", \"Washington\", 543)\n",
    "    city_graph2.add_edge_by_vertices(\"Atlanta\", \"Miami\", 604)\n",
    "    city_graph2.add_edge_by_vertices(\"Miami\", \"Washington\", 923)\n",
    "    city_graph2.add_edge_by_vertices(\"Chicago\", \"Detroit\", 238)\n",
    "    city_graph2.add_edge_by_vertices(\"Detroit\", \"Boston\", 613)\n",
    "    city_graph2.add_edge_by_vertices(\"Detroit\", \"Washington\", 396)\n",
    "    city_graph2.add_edge_by_vertices(\"Detroit\", \"New York\", 482)\n",
    "    city_graph2.add_edge_by_vertices(\"Boston\", \"New York\", 190)\n",
    "    city_graph2.add_edge_by_vertices(\"New York\", \"Philadelphia\", 81)\n",
    "    city_graph2.add_edge_by_vertices(\"Philadelphia\", \"Washington\", 123)\n",
    "\n",
    "    distances, path_dict = dijkstra(city_graph2, \"Los Angeles\")\n",
    "    name_distance: Dict[str, Optional[int]] = distance_array_to_vertex_dict(city_graph2, distances)\n",
    "    print(\"Entfernungen von Los Angeles:\")\n",
    "    for key, value in name_distance.items():\n",
    "        print(f\"{key} : {value}\")\n",
    "    print(\"\") # Leerzeile\n",
    "\n",
    "    print(\"Kürzester Pfad von Los Angeles nach Boston:\")\n",
    "    path: WeightedPath = path_dict_to_path(city_graph2.index_of(\"Los Angeles\"), city_graph2.index_of(\"Boston\"), path_dict)\n",
    "    print_weighted_path(city_graph2, path)\n"
   ],
   "metadata": {
    "collapsed": false,
    "pycharm": {
     "name": "#%%\n"
    }
   }
  }
 ],
 "metadata": {
  "kernelspec": {
   "display_name": "Python 3",
   "language": "python",
   "name": "python3"
  },
  "language_info": {
   "codemirror_mode": {
    "name": "ipython",
    "version": 2
   },
   "file_extension": ".py",
   "mimetype": "text/x-python",
   "name": "python",
   "nbconvert_exporter": "python",
   "pygments_lexer": "ipython2",
   "version": "2.7.6"
  }
 },
 "nbformat": 4,
 "nbformat_minor": 0
}
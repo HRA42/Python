{
 "cells": [
  {
   "cell_type": "markdown",
   "source": [
    "# Gewichtete Kanten\n",
    "- wird benötigt um die \"Entfernung\" von zwei Knoten zueinander darzustellen"
   ],
   "metadata": {
    "collapsed": false,
    "pycharm": {
     "name": "#%% md\n"
    }
   }
  },
  {
   "cell_type": "code",
   "execution_count": 13,
   "metadata": {
    "collapsed": true,
    "pycharm": {
     "name": "#%%\n"
    }
   },
   "outputs": [],
   "source": [
    "from __future__ import annotations\n",
    "from dataclasses import dataclass\n",
    "from edge import Edge\n",
    "\n",
    "@dataclass\n",
    "class WeightedEdge(Edge):\n",
    "    weight: float\n",
    "    def reversed(self) -> WeightedEdge:\n",
    "        return WeightedEdge(self.v, self.u, self.weight)\n",
    "    # Kanten nach Gewicht ordnen\n",
    "    def __lt__(self, other: WeightedEdge) -> bool:\n",
    "        return self.weight < other.weight\n",
    "    def __str__(self) -> str:\n",
    "        return f\"{self.u} {self.weight} {self.v}\""
   ]
  },
  {
   "cell_type": "markdown",
   "source": [
    "## Gewichtete Graphen"
   ],
   "metadata": {
    "collapsed": false,
    "pycharm": {
     "name": "#%% md\n"
    }
   }
  },
  {
   "cell_type": "code",
   "execution_count": 14,
   "outputs": [],
   "source": [
    "from typing import TypeVar, Generic, List, Tuple\n",
    "from graph import Graph\n",
    "from weighted_edge import WeightedEdge\n",
    "\n",
    "V = TypeVar('V')\n",
    "\n",
    "class WeightedGraph(Generic[V], Graph[V]):\n",
    "    def __init__(self, vertices: List[V] = []) -> None:\n",
    "        self._vertices: List[V] = vertices\n",
    "        self._edges: List[List[WeightedEdge]] = [[] for _ in vertices]\n",
    "\n",
    "    def add_edge_by_indices(self, u: int, v: int, weight: float) -> None:\n",
    "        edge: WeightedEdge = WeightedEdge(u, v, weight)\n",
    "        self.add_edge(edge)  # Version der Elternklasse aufrufen\n",
    "\n",
    "    def add_edge_by_vertices(self, first: V, second: V, weight: float) -> None:\n",
    "        u: int = self._vertices.index(first)\n",
    "        v: int = self._vertices.index(second)\n",
    "        self.add_edge_by_indices(u, v, weight)\n",
    "\n",
    "    def neighbors_for_index_with_weights(self, index: int) -> List[Tuple[V, float]]:\n",
    "        distance_tuples: List[Tuple[V, float]] = []\n",
    "        for edge in self.edges_for_index(index):\n",
    "            distance_tuples.append((self.vertex_at(edge.v), edge.weight))\n",
    "        return distance_tuples\n",
    "\n",
    "    def __str__(self) -> str:\n",
    "        desc: str = \"\"\n",
    "        for i in range(self.vertex_count):\n",
    "            desc += f\"{self.vertex_at(i)} -> {self.neighbors_for_index_with_weights(i)}\\n\"\n",
    "        return desc\n"
   ],
   "metadata": {
    "collapsed": false,
    "pycharm": {
     "name": "#%%\n"
    }
   }
  },
  {
   "cell_type": "markdown",
   "source": [
    "## Gewichteter Pfad"
   ],
   "metadata": {
    "collapsed": false,
    "pycharm": {
     "name": "#%% md\n"
    }
   }
  },
  {
   "cell_type": "code",
   "execution_count": 15,
   "outputs": [],
   "source": [
    "from typing import TypeVar, List, Optional\n",
    "from weighted_graph import WeightedGraph\n",
    "from weighted_edge import WeightedEdge\n",
    "from Notebooks.Suche.generic_search import  PriorityQueue\n",
    "\n",
    "V = TypeVar('V')\n",
    "\n",
    "WeightedPath = List[WeightedEdge] # Typ-Alias für Pfade\n",
    "def total_weight(wp: WeightedPath) -> float:\n",
    "    return sum([e.weight for e in wp])\n",
    "\n",
    "def mst(wg: WeightedGraph[V], start: int = 0) -> Optional[WeightedPath]:\n",
    "    if start > (wg.vertex_count - 1) or start < 0:\n",
    "        return None\n",
    "    result: WeightedPath = []  # Enthält den finalen minimalen Spannbaum\n",
    "    pq: PriorityQueue[WeightedEdge]\n",
    "    visited: [bool] = [False] * wg.vertex_count  # Wo wir schon waren\n",
    "\n",
    "    def visit(index: int):\n",
    "        visited[index] = True  # Als besucht markieren\n",
    "        for edge in wg.edges_for_index(index):\n",
    "            # Alle von hier abgehenden Kanten zu pq hinzufügen\n",
    "            if not visited[edge.v]:\n",
    "                pq.push(edge)\n",
    "\n",
    "    visit(start) # Beim ersten Knoten beginnt alles\n",
    "\n",
    "    while not pq.empty:  # weitermachen so lange es Kanten zu verarbeiten gibt\n",
    "        edge = pq.pop()\n",
    "        if visited[edge.v]:\n",
    "            continue # niemals erneut besuchen\n",
    "        # Dies ist bisher die kürzeste Kante, also zur Lösung hinzufügen\n",
    "        result.append(edge)\n",
    "        visit(edge.v)\n",
    "    return result\n",
    "\n",
    "def print_weighted_path(wg: WeightedGraph, wp: WeightedPath) -> None:\n",
    "    for edge in wp:\n",
    "        print(f\"{wg.vertex_at(edge.u)} {edge.weight}> {wg.vertex_at(edge.v)}\")\n",
    "    print(f\"Gesamtgewicht: {total_weight(wp)}\")"
   ],
   "metadata": {
    "collapsed": false,
    "pycharm": {
     "name": "#%%\n"
    }
   }
  },
  {
   "cell_type": "markdown",
   "source": [
    "## Definition von gewichteten Graphen"
   ],
   "metadata": {
    "collapsed": false,
    "pycharm": {
     "name": "#%% md\n"
    }
   }
  },
  {
   "cell_type": "code",
   "execution_count": 16,
   "outputs": [
    {
     "name": "stdout",
     "output_type": "stream",
     "text": [
      "Seattle 678> San Francisco\n",
      "San Francisco 348> Los Angeles\n",
      "Los Angeles 50> Riverside\n",
      "Riverside 307> Phoenix\n",
      "Phoenix 887> Dallas\n",
      "Dallas 225> Houston\n",
      "Houston 702> Atlanta\n",
      "Atlanta 543> Washington\n",
      "Washington 123> Philadelphia\n",
      "Philadelphia 81> New York\n",
      "New York 190> Boston\n",
      "Washington 396> Detroit\n",
      "Detroit 238> Chicago\n",
      "Atlanta 604> Miami\n",
      "Gesamtgewicht: 5372\n"
     ]
    }
   ],
   "source": [
    "from mst import mst, print_weighted_path\n",
    "\n",
    "if __name__ == \"__main__\":\n",
    "    city_graph2: WeightedGraph[str] = WeightedGraph(\n",
    "        [\"Seattle\", \"San Francisco\", \"Los Angeles\", \"Riverside\", \"Phoenix\",\n",
    "         \"Chicago\", \"Boston\", \"New York\", \"Atlanta\", \"Miami\", \"Dallas\",\n",
    "         \"Houston\", \"Detroit\", \"Philadelphia\", \"Washington\"])\n",
    "\n",
    "    city_graph2.add_edge_by_vertices(\"Seattle\", \"Chicago\", 1737)\n",
    "    city_graph2.add_edge_by_vertices(\"Seattle\", \"San Francisco\", 678)\n",
    "    city_graph2.add_edge_by_vertices(\"San Francisco\", \"Riverside\", 386)\n",
    "    city_graph2.add_edge_by_vertices(\"San Francisco\", \"Los Angeles\", 348)\n",
    "    city_graph2.add_edge_by_vertices(\"Los Angeles\", \"Riverside\", 50)\n",
    "    city_graph2.add_edge_by_vertices(\"Los Angeles\", \"Phoenix\", 357)\n",
    "    city_graph2.add_edge_by_vertices(\"Riverside\", \"Phoenix\", 307)\n",
    "    city_graph2.add_edge_by_vertices(\"Riverside\", \"Chicago\", 1704)\n",
    "    city_graph2.add_edge_by_vertices(\"Phoenix\", \"Dallas\", 887)\n",
    "    city_graph2.add_edge_by_vertices(\"Phoenix\", \"Houston\", 1015)\n",
    "    city_graph2.add_edge_by_vertices(\"Dallas\", \"Chicago\", 805)\n",
    "    city_graph2.add_edge_by_vertices(\"Dallas\", \"Atlanta\", 721)\n",
    "    city_graph2.add_edge_by_vertices(\"Dallas\", \"Houston\", 225)\n",
    "    city_graph2.add_edge_by_vertices(\"Houston\", \"Atlanta\", 702)\n",
    "    city_graph2.add_edge_by_vertices(\"Houston\", \"Miami\", 968)\n",
    "    city_graph2.add_edge_by_vertices(\"Atlanta\", \"Chicago\", 588)\n",
    "    city_graph2.add_edge_by_vertices(\"Atlanta\", \"Washington\", 543)\n",
    "    city_graph2.add_edge_by_vertices(\"Atlanta\", \"Miami\", 604)\n",
    "    city_graph2.add_edge_by_vertices(\"Miami\", \"Washington\", 923)\n",
    "    city_graph2.add_edge_by_vertices(\"Chicago\", \"Detroit\", 238)\n",
    "    city_graph2.add_edge_by_vertices(\"Detroit\", \"Boston\", 613)\n",
    "    city_graph2.add_edge_by_vertices(\"Detroit\", \"Washington\", 396)\n",
    "    city_graph2.add_edge_by_vertices(\"Detroit\", \"New York\", 482)\n",
    "    city_graph2.add_edge_by_vertices(\"Boston\", \"New York\", 190)\n",
    "    city_graph2.add_edge_by_vertices(\"New York\", \"Philadelphia\", 81)\n",
    "    city_graph2.add_edge_by_vertices(\"Philadelphia\", \"Washington\", 123)\n",
    "    # print(f\"\\n gewichtete Graphen: {city_graph2}\")\n",
    "\n",
    "    result: Optional[List[WeightedEdge]] = mst(city_graph2)\n",
    "    if result is None:\n",
    "        print(\"Keine Lösung gefunden!\")\n",
    "    else:\n",
    "        print_weighted_path(city_graph2, result)"
   ],
   "metadata": {
    "collapsed": false,
    "pycharm": {
     "name": "#%%\n"
    }
   }
  }
 ],
 "metadata": {
  "kernelspec": {
   "display_name": "Python 3",
   "language": "python",
   "name": "python3"
  },
  "language_info": {
   "codemirror_mode": {
    "name": "ipython",
    "version": 2
   },
   "file_extension": ".py",
   "mimetype": "text/x-python",
   "name": "python",
   "nbconvert_exporter": "python",
   "pygments_lexer": "ipython2",
   "version": "2.7.6"
  }
 },
 "nbformat": 4,
 "nbformat_minor": 0
}
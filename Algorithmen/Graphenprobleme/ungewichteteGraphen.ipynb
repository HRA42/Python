{
 "cells": [
  {
   "cell_type": "markdown",
   "metadata": {
    "pycharm": {
     "name": "#%% md\n"
    }
   },
   "source": [
    "# Framework für Graphenprobleme\n",
    "- 2 Arten von Graphen\n",
    "    1. ungewichtete Graphen\n",
    "    2. gewichtete Graphen \n",
    "        - jeder Kante wird ein Gewicht zu gewiesen (bspw. eine Länge)\n",
    "- Vererbungsmodell (OOP)\n",
    "    - weniger Programmieraufwand\n",
    "- Ziel: Flexibilität, sodass viele verschiedene Probleme gelöscht werden können\n",
    "    - Generics!\n",
    "\n",
    "---"
   ]
  },
  {
   "cell_type": "markdown",
   "metadata": {
    "pycharm": {
     "name": "#%% md\n"
    }
   },
   "source": [
    "## Kante\n",
    "- Engl. **_Edge_**\n",
    "- Definiert als Verbindung zwischen zwei Knoten\n",
    "- Repräsentation als Integer Index\n",
    "- u = erster Knoten\n",
    "- v = zweiter Knoten\n",
    "- Dataclasses geniert automatisch eine Init Methode für die Instanzvariablen"
   ]
  },
  {
   "cell_type": "code",
   "execution_count": 1,
   "metadata": {
    "pycharm": {
     "name": "#%%\n"
    }
   },
   "outputs": [],
   "source": [
    "from __future__ import annotations\n",
    "from dataclasses import dataclass\n",
    "\n",
    "@dataclass\n",
    "class Edge:\n",
    "    u: int # Der \"von\" Knoten\n",
    "    v: int # Der \"nach\" Knoten\n",
    "    def reversed(self) -> Edge:\n",
    "        return Edge(self.v, self.u)\n",
    "    def __str__(self) -> str:\n",
    "        return f\"{self.u} -> {self.v}\""
   ]
  },
  {
   "cell_type": "markdown",
   "metadata": {
    "pycharm": {
     "name": "#%% md\n"
    }
   },
   "source": [
    "---\n",
    "## Graph\n",
    "- Wesentliche Aufgabe: Verknüfung von Kanten mit Knoten"
   ]
  },
  {
   "cell_type": "code",
   "execution_count": 2,
   "metadata": {
    "pycharm": {
     "name": "#%%\n"
    }
   },
   "outputs": [],
   "source": [
    "from typing import TypeVar, Generic, List, Optional\n",
    "V = TypeVar('V') # Typ der Knoten im Graphen\n",
    "\n",
    "class Graph(Generic[V]):\n",
    "    def __init__(self, vertices: List[V]) -> None:\n",
    "        self._vertices: List[V] = vertices\n",
    "        self._edges: List[List[Edge]] = [[] for _ in vertices]\n",
    "    @property\n",
    "    def vertex_count(self) -> int:\n",
    "        return len(self._vertices) # Anzahl der Knoten\n",
    "    \n",
    "    @property\n",
    "    def edge_count(self) -> int:\n",
    "        return sum(map(len, self._edges)) # Anzahl der Kanten\n",
    "    \n",
    "    # Einen Knoten zum Graphen hinzufügen und seinen Index zurück geben\n",
    "    def add_vertex(self, vertex: V) -> int:\n",
    "        self._vertices.append(vertex)\n",
    "        self._edges.append([]) # leere Liste zum Speichern von Kanten hinzufügen\n",
    "        return self.vertex_count - 1 # Index des hinzugefügten Knotens zurückgeben\n",
    "    \n",
    "    # Dies ist ein ungerichteter Graph,\n",
    "    # also fügen wir stets Kanten in beide Richtungen hinzu\n",
    "    def add_edge(self, edge: Edge) -> None:\n",
    "        self._edges[edge.u].append(edge)\n",
    "        self._edges[edge.v].append(edge.reversed())\n",
    "    \n",
    "    # Eine Kante mithilfe von Knotenindizies hinzufügen (Hilfsmethode)\n",
    "    def add_edge_by_indices(self, u: int, v: int) -> None:\n",
    "        edge: Edge = Edge(u, v)\n",
    "        self.add_edge(edge)\n",
    "    \n",
    "    # Eine Kante durch Nachschlagen der Knotenindizes hinzufügen (Hilfsmethode)\n",
    "    def add_edge_by_vertices(self, first: V, second: V) -> None:\n",
    "        u: int = self._vertices.index(first)\n",
    "        v: int = self._vertices.index(second)\n",
    "        self.add_edge_by_indices(u, v)\n",
    "\n",
    "    # Den Knoten an einem bestimmten Index finden\n",
    "    def vertex_at(self, index: int) -> V:\n",
    "        return self._vertices[index]\n",
    "    \n",
    "    # Den Index eines Knotens im Graphen finden\n",
    "    def index_of(self, vertex: V) -> int:\n",
    "        return self._vertices.index(vertex)\n",
    "    \n",
    "    # Die Knoten finden, mit denen ein Knoten an einem bestimmten Index verbunden ist\n",
    "    def neighbors_for_index(self, index: int) -> List[V]:\n",
    "        return list(map(self.vertex_at, [e.v for e in self._edges[index]]))\n",
    "\n",
    "    # Den Index eines Konotens nachschlagen und seine Nachbarn finden (Hilfsmethode)\n",
    "    def neighbors_for_vertex(self, vertex: V) -> List[V]:\n",
    "        return self.neighbors_for_index(self.index_of(vertex))\n",
    "    \n",
    "    # Alle Kanten zurückgeben, die mit einem Knoten an einem bestimmten Index verknüpft sind\n",
    "    def edges_for_index(self, index: int) -> List[Edge]:\n",
    "        return self._edges[index]\n",
    "    \n",
    "    # Den Index eines Knotens nachschlagen und seine Kanten zurückgeben (Hilfsmethode)\n",
    "    def edges_for_vertex(self, vertex: V) -> List[Edge]:\n",
    "        return self.edges_for_index(self.index_of(vertex))\n",
    "\n",
    "    # Die wohlformatierte Ausgabe eines Graphen ermöglichen\n",
    "    def __str__(self) -> str:\n",
    "        desc: str = \"\"\n",
    "        for i in range(self.vertex_count):\n",
    "            desc += f\"{self.vertex_at(i)} -> {self.neighbors_for_index(i)}\\n\"\n",
    "        return desc\n",
    "        "
   ]
  },
  {
   "cell_type": "markdown",
   "metadata": {
    "pycharm": {
     "name": "#%% md\n"
    }
   },
   "source": [
    "---\n",
    "\n",
    "## Mit Kante und Graph arbeiten"
   ]
  },
  {
   "cell_type": "code",
   "execution_count": 3,
   "metadata": {
    "pycharm": {
     "name": "#%%\n"
    }
   },
   "outputs": [
    {
     "name": "stdout",
     "output_type": "stream",
     "text": [
      "Seattle -> ['Chicago', 'San Francisco']\n",
      "San Francisco -> ['Seattle', 'Riverside', 'Los Angeles']\n",
      "Los Angeles -> ['San Francisco', 'Riverside', 'Phoenix']\n",
      "Riverside -> ['San Francisco', 'Los Angeles', 'Phoenix', 'Chicago']\n",
      "Phoenix -> ['Los Angeles', 'Riverside', 'Dallas', 'Houston']\n",
      "Chicago -> ['Seattle', 'Riverside', 'Dallas', 'Atlanta', 'Detroit']\n",
      "Boston -> ['Detroit', 'New York']\n",
      "New York -> ['Detroit', 'Boston', 'Philadelphia']\n",
      "Atlanta -> ['Dallas', 'Houston', 'Chicago', 'Washington', 'Miami']\n",
      "Miami -> ['Houston', 'Atlanta', 'Washington']\n",
      "Dallas -> ['Phoenix', 'Chicago', 'Atlanta', 'Houston']\n",
      "Houston -> ['Phoenix', 'Dallas', 'Atlanta', 'Miami']\n",
      "Detroit -> ['Chicago', 'Boston', 'Washington', 'New York']\n",
      "Philadelphia -> ['New York', 'Washington']\n",
      "Washington -> ['Atlanta', 'Miami', 'Detroit', 'Philadelphia']\n",
      "\n",
      "Pfad von Boston nach Miami: \n",
      "['Boston', 'Detroit', 'Washington', 'Miami']\n"
     ]
    }
   ],
   "source": [
    "if __name__ == \"__main__\":\n",
    "    # Grundlegende Konstruktion des Graphen testen\n",
    "    city_graph: Graph[str] = Graph([\"Seattle\", \"San Francisco\", \"Los Angeles\", \"Riverside\", \"Phoenix\", \"Chicago\", \"Boston\", \"New York\", \"Atlanta\", \"Miami\", \"Dallas\", \"Houston\", \"Detroit\", \"Philadelphia\", \"Washington\"])\n",
    "    city_graph.add_edge_by_vertices(\"Seattle\", \"Chicago\")\n",
    "    city_graph.add_edge_by_vertices(\"Seattle\", \"San Francisco\")\n",
    "    city_graph.add_edge_by_vertices(\"San Francisco\", \"Riverside\")\n",
    "    city_graph.add_edge_by_vertices(\"San Francisco\", \"Los Angeles\")\n",
    "    city_graph.add_edge_by_vertices(\"Los Angeles\", \"Riverside\")\n",
    "    city_graph.add_edge_by_vertices(\"Los Angeles\", \"Phoenix\")\n",
    "    city_graph.add_edge_by_vertices(\"Riverside\", \"Phoenix\")\n",
    "    city_graph.add_edge_by_vertices(\"Riverside\", \"Chicago\")\n",
    "    city_graph.add_edge_by_vertices(\"Phoenix\", \"Dallas\")\n",
    "    city_graph.add_edge_by_vertices(\"Phoenix\", \"Houston\")\n",
    "    city_graph.add_edge_by_vertices(\"Dallas\", \"Chicago\")\n",
    "    city_graph.add_edge_by_vertices(\"Dallas\", \"Atlanta\")\n",
    "    city_graph.add_edge_by_vertices(\"Dallas\", \"Houston\")\n",
    "    city_graph.add_edge_by_vertices(\"Houston\", \"Atlanta\")\n",
    "    city_graph.add_edge_by_vertices(\"Houston\", \"Miami\")\n",
    "    city_graph.add_edge_by_vertices(\"Atlanta\", \"Chicago\")\n",
    "    city_graph.add_edge_by_vertices(\"Atlanta\", \"Washington\")\n",
    "    city_graph.add_edge_by_vertices(\"Atlanta\", \"Miami\")\n",
    "    city_graph.add_edge_by_vertices(\"Miami\", \"Washington\")\n",
    "    city_graph.add_edge_by_vertices(\"Chicago\", \"Detroit\")\n",
    "    city_graph.add_edge_by_vertices(\"Detroit\", \"Boston\")\n",
    "    city_graph.add_edge_by_vertices(\"Detroit\", \"Washington\")\n",
    "    city_graph.add_edge_by_vertices(\"Detroit\", \"New York\")\n",
    "    city_graph.add_edge_by_vertices(\"Boston\", \"New York\")\n",
    "    city_graph.add_edge_by_vertices(\"New York\", \"Philadelphia\")\n",
    "    city_graph.add_edge_by_vertices(\"Philadelphia\", \"Washington\")\n",
    "    print(city_graph)\n",
    "\n",
    "    # Wie komme ich von Boston nach Miami? (Tiefensuche)\n",
    "    from Notebooks.Suche.generic_search import bfs, Node, node_to_path\n",
    "    bfs_result: Optional[Node[V]] = bfs(\"Boston\", lambda x: x == \"Miami\",\n",
    "     city_graph.neighbors_for_vertex)\n",
    "\n",
    "    if bfs_result is None:\n",
    "        print(\"Keine Lösung gefunden!\")\n",
    "    else:\n",
    "        path: List[V] = node_to_path(bfs_result)\n",
    "        print(\"Pfad von Boston nach Miami: \")\n",
    "        print(path)\n"
   ]
  }
 ],
 "metadata": {
  "kernelspec": {
   "display_name": "Python 3.9.2 64-bit",
   "language": "python",
   "name": "python3"
  },
  "language_info": {
   "codemirror_mode": {
    "name": "ipython",
    "version": 3
   },
   "file_extension": ".py",
   "mimetype": "text/x-python",
   "name": "python",
   "nbconvert_exporter": "python",
   "pygments_lexer": "ipython3",
   "version": "3.9.2"
  },
  "orig_nbformat": 4,
  "vscode": {
   "interpreter": {
    "hash": "916dbcbb3f70747c44a77c7bcd40155683ae19c65e1c03b4aa3499c5328201f1"
   }
  }
 },
 "nbformat": 4,
 "nbformat_minor": 2
}
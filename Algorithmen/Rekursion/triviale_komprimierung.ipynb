{
 "cells": [
  {
   "cell_type": "markdown",
   "metadata": {},
   "source": [
    "# Triviale Komprimierung\n",
    "\n",
    "---\n",
    "- Erforderlich um den benötigten Speicherplatz zu reduzieren\n",
    "---\n",
    "\n",
    "## Bit-String\n",
    "- Ein Bitstring kann verwendet werden werden den benötigten Speicher eines String zu reduzieren\n",
    "- Das Beispiel stellt einen Methode dar um Genesequenzen effizienter zu speichern \n",
    "\n",
    "---"
   ]
  },
  {
   "cell_type": "code",
   "execution_count": 14,
   "metadata": {},
   "outputs": [
    {
     "name": "stdout",
     "output_type": "stream",
     "text": [
      "Original: 11949 Byte\n",
      "Komprimiert: 3200 Byte\n",
      "Original und dekomprimierte Daten sind gleich: True\n",
      "Eingespart: 73%\n"
     ]
    }
   ],
   "source": [
    "class CompressedGene:\n",
    "    def __init__(self, gene: str) -> None:\n",
    "        self._compress(gene) \n",
    "    def _compress(self, gene: str) -> None:\n",
    "        self.bit_string: int = 1 # Mit Sentinel starten\n",
    "        for nucleotide in gene.upper():\n",
    "            self.bit_string <<= 2\n",
    "            if nucleotide == \"A\":\n",
    "                self.bit_string |= 0b00\n",
    "            elif nucleotide == \"C\":\n",
    "                self.bit_string |= 0b01\n",
    "            elif nucleotide == \"G\":\n",
    "                self.bit_string |= 0b10\n",
    "            elif nucleotide == \"T\":\n",
    "                self.bit_string |= 0b11\n",
    "            else:\n",
    "                raise ValueError(\"Ungültiges Nukleotid:{}\".format(nucleotide))\n",
    "    def decompress(self) -> str:\n",
    "        gene: str = \"\"\n",
    "        for i in range(0, self.bit_string.bit_length() - 1, 2):\n",
    "            # - 1 , um Sentinel zu ignorieren\n",
    "            bits: int = self.bit_string >> i & 0b11 # nur 2 relevante Bits lesen\n",
    "            if bits == 0b00:\n",
    "                gene += \"A\"\n",
    "            elif bits == 0b01:\n",
    "                gene += \"C\"\n",
    "            elif bits == 0b10:\n",
    "                gene += \"G\"\n",
    "            elif bits == 0b11:\n",
    "                gene += \"T\"\n",
    "            else:\n",
    "                raise ValueError(\"Ungültige Bits:{}\".format(bits))\n",
    "        return gene[::-1]\n",
    "    def __str__(self) -> str:\n",
    "        return self.decompress()\n",
    "\n",
    "if __name__ == \"__main__\":\n",
    "    from sys import getsizeof\n",
    "    original: str = \"TAGGATTGGAATTAGGTAGGTAGAAAATGGTTGAATGGGTTTAGGTATATAGTGATAGATGTGATAGATGTGATGTGATGTAGTAGTAGATGATGATAGTAGTAGTAGATGATGTGTAT\" * 100\n",
    "    print(\"Original: {} Byte\".format(getsizeof(original)))\n",
    "    compressed: CompressedGene = CompressedGene(original) # Komprimierung\n",
    "    print(\"Komprimiert: {} Byte\".format(getsizeof(compressed.bit_string)))\n",
    "    print(\"Original und dekomprimierte Daten sind gleich: {}\".format(original == compressed.decompress()))\n",
    "    print(\"Eingespart: {}%\".format(round(100 * (getsizeof(original) - getsizeof(compressed.bit_string)) / getsizeof(original))))"
   ]
  }
 ],
 "metadata": {
  "kernelspec": {
   "display_name": "Python 3.9.2 64-bit",
   "language": "python",
   "name": "python3"
  },
  "language_info": {
   "codemirror_mode": {
    "name": "ipython",
    "version": 3
   },
   "file_extension": ".py",
   "mimetype": "text/x-python",
   "name": "python",
   "nbconvert_exporter": "python",
   "pygments_lexer": "ipython3",
   "version": "3.9.2"
  },
  "orig_nbformat": 4,
  "vscode": {
   "interpreter": {
    "hash": "916dbcbb3f70747c44a77c7bcd40155683ae19c65e1c03b4aa3499c5328201f1"
   }
  }
 },
 "nbformat": 4,
 "nbformat_minor": 2
}

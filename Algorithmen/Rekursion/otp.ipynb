{
 "cells": [
  {
   "cell_type": "markdown",
   "metadata": {},
   "source": [
    "# One-Time-Pad\n",
    "\n",
    "---\n",
    "\n",
    "- Es werden 2 Schlüssel benötigt:\n",
    "    1. Pseudodaten\n",
    "        - Diese müssen 3 Kriteren erfüllen:\n",
    "            1. die selbe Länge wie die Originaldaten\n",
    "                - Könnte andernfalls ein erkennbares Muster ergeben\n",
    "            2. wirklich zufällig sein\n",
    "                - Dabei ergibt sich die Frage ob wir wirklich zufällige Daten erzeugen können\n",
    "                    - Nein können wir nicht!\n",
    "                    - Wir verwenden einen annährend guten Zufallsgenerator der für Testzwecke ausreicht\n",
    "            3. völlig geheim sein\n",
    "                - Könnte andernfalls einfach berechnet werden\n",
    "    2. Produkt\n",
    "- bei korrekter Implementierung ist diese Form der Verschlüsselung nicht knackbar\n",
    "\n",
    "---"
   ]
  },
  {
   "cell_type": "code",
   "execution_count": 4,
   "metadata": {},
   "outputs": [
    {
     "name": "stdout",
     "output_type": "stream",
     "text": [
      "One Time Pad\n"
     ]
    }
   ],
   "source": [
    "from secrets import token_bytes\n",
    "from typing import Tuple\n",
    "\n",
    "def random_key(lenght: int) -> int:\n",
    "    # lenght Zufalls-Bytes erzeugen\n",
    "    tb: bytes = token_bytes(lenght)\n",
    "    # Diese Bytes in einen Bit-String konvertieren und zurückgeben\n",
    "    return int.from_bytes(tb, \"big\")\n",
    "\n",
    "def encrypt(original: str) -> Tuple[int, int]:\n",
    "    original_byes: bytes = original.encode()\n",
    "    dummy: int = random_key(len(original_byes))\n",
    "    original_key: int = int.from_bytes(original_byes, \"big\") \n",
    "    encrypted: int = original_key ^ dummy # Exclusives Oder\n",
    "    return dummy, encrypted # Schlüsselpaar, verschlüsselter Text\n",
    "\n",
    "def decrypt(key1: int, key2: int) -> str:\n",
    "    decrypted: int = key1 ^ key2\n",
    "    temp: bytes = decrypted.to_bytes((decrypted.bit_length()+7) // 8, \"big\")\n",
    "    return temp.decode()\n",
    "\n",
    "if __name__ == \"__main__\":\n",
    "    key1, key2 = encrypt(\"One Time Pad\")\n",
    "    result: str = decrypt(key1, key2)\n",
    "    print(result)"
   ]
  }
 ],
 "metadata": {
  "kernelspec": {
   "display_name": "Python 3.9.2 64-bit",
   "language": "python",
   "name": "python3"
  },
  "language_info": {
   "codemirror_mode": {
    "name": "ipython",
    "version": 3
   },
   "file_extension": ".py",
   "mimetype": "text/x-python",
   "name": "python",
   "nbconvert_exporter": "python",
   "pygments_lexer": "ipython3",
   "version": "3.9.2"
  },
  "orig_nbformat": 4,
  "vscode": {
   "interpreter": {
    "hash": "916dbcbb3f70747c44a77c7bcd40155683ae19c65e1c03b4aa3499c5328201f1"
   }
  }
 },
 "nbformat": 4,
 "nbformat_minor": 2
}

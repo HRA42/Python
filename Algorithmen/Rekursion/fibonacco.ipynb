{
 "cells": [
  {
   "cell_type": "markdown",
   "metadata": {},
   "source": [
    "# Dieses Notebook behandelt Rekursion anhand der Berrechnung von Fibonacci Zahlen.\n",
    "---\n",
    "## Recursion mit direktem Aufruf\n",
    "\n",
    "---\n",
    "- Die Funktion fib1 wird niemals eine Zahl ausgeben, da die maximale Rekursionstiefe erreicht wird.\n",
    "- Es ist keine Abbruchbedingung definiert."
   ]
  },
  {
   "cell_type": "code",
   "execution_count": 4,
   "metadata": {},
   "outputs": [
    {
     "ename": "RecursionError",
     "evalue": "maximum recursion depth exceeded",
     "output_type": "error",
     "traceback": [
      "\u001b[0;31m---------------------------------------------------------------------------\u001b[0m",
      "\u001b[0;31mRecursionError\u001b[0m                            Traceback (most recent call last)",
      "\u001b[1;32m/root/repos/Programmierung/Python/Notebooks/fibonacco.ipynb Zelle 2\u001b[0m in \u001b[0;36m<cell line: 4>\u001b[0;34m()\u001b[0m\n\u001b[1;32m      <a href='vscode-notebook-cell://ssh-remote%2Bnode.postrausch.tech/root/repos/Programmierung/Python/Notebooks/fibonacco.ipynb#W1sdnNjb2RlLXJlbW90ZQ%3D%3D?line=1'>2</a>\u001b[0m     \u001b[39mreturn\u001b[39;00m fib1(n \u001b[39m-\u001b[39m \u001b[39m1\u001b[39m) \u001b[39m+\u001b[39m fib1(n \u001b[39m-\u001b[39m \u001b[39m2\u001b[39m)\n\u001b[1;32m      <a href='vscode-notebook-cell://ssh-remote%2Bnode.postrausch.tech/root/repos/Programmierung/Python/Notebooks/fibonacco.ipynb#W1sdnNjb2RlLXJlbW90ZQ%3D%3D?line=3'>4</a>\u001b[0m \u001b[39mif\u001b[39;00m \u001b[39m__name__\u001b[39m \u001b[39m==\u001b[39m \u001b[39m\"\u001b[39m\u001b[39m__main__\u001b[39m\u001b[39m\"\u001b[39m:\n\u001b[0;32m----> <a href='vscode-notebook-cell://ssh-remote%2Bnode.postrausch.tech/root/repos/Programmierung/Python/Notebooks/fibonacco.ipynb#W1sdnNjb2RlLXJlbW90ZQ%3D%3D?line=4'>5</a>\u001b[0m     \u001b[39mprint\u001b[39m(fib1(\u001b[39m20\u001b[39;49m))\n",
      "\u001b[1;32m/root/repos/Programmierung/Python/Notebooks/fibonacco.ipynb Zelle 2\u001b[0m in \u001b[0;36mfib1\u001b[0;34m(n)\u001b[0m\n\u001b[1;32m      <a href='vscode-notebook-cell://ssh-remote%2Bnode.postrausch.tech/root/repos/Programmierung/Python/Notebooks/fibonacco.ipynb#W1sdnNjb2RlLXJlbW90ZQ%3D%3D?line=0'>1</a>\u001b[0m \u001b[39mdef\u001b[39;00m \u001b[39mfib1\u001b[39m(n: \u001b[39mint\u001b[39m) \u001b[39m-\u001b[39m\u001b[39m>\u001b[39m \u001b[39mint\u001b[39m:\n\u001b[0;32m----> <a href='vscode-notebook-cell://ssh-remote%2Bnode.postrausch.tech/root/repos/Programmierung/Python/Notebooks/fibonacco.ipynb#W1sdnNjb2RlLXJlbW90ZQ%3D%3D?line=1'>2</a>\u001b[0m     \u001b[39mreturn\u001b[39;00m fib1(n \u001b[39m-\u001b[39;49m \u001b[39m1\u001b[39;49m) \u001b[39m+\u001b[39m fib1(n \u001b[39m-\u001b[39m \u001b[39m2\u001b[39m)\n",
      "\u001b[1;32m/root/repos/Programmierung/Python/Notebooks/fibonacco.ipynb Zelle 2\u001b[0m in \u001b[0;36mfib1\u001b[0;34m(n)\u001b[0m\n\u001b[1;32m      <a href='vscode-notebook-cell://ssh-remote%2Bnode.postrausch.tech/root/repos/Programmierung/Python/Notebooks/fibonacco.ipynb#W1sdnNjb2RlLXJlbW90ZQ%3D%3D?line=0'>1</a>\u001b[0m \u001b[39mdef\u001b[39;00m \u001b[39mfib1\u001b[39m(n: \u001b[39mint\u001b[39m) \u001b[39m-\u001b[39m\u001b[39m>\u001b[39m \u001b[39mint\u001b[39m:\n\u001b[0;32m----> <a href='vscode-notebook-cell://ssh-remote%2Bnode.postrausch.tech/root/repos/Programmierung/Python/Notebooks/fibonacco.ipynb#W1sdnNjb2RlLXJlbW90ZQ%3D%3D?line=1'>2</a>\u001b[0m     \u001b[39mreturn\u001b[39;00m fib1(n \u001b[39m-\u001b[39;49m \u001b[39m1\u001b[39;49m) \u001b[39m+\u001b[39m fib1(n \u001b[39m-\u001b[39m \u001b[39m2\u001b[39m)\n",
      "    \u001b[0;31m[... skipping similar frames: fib1 at line 2 (2970 times)]\u001b[0m\n",
      "\u001b[1;32m/root/repos/Programmierung/Python/Notebooks/fibonacco.ipynb Zelle 2\u001b[0m in \u001b[0;36mfib1\u001b[0;34m(n)\u001b[0m\n\u001b[1;32m      <a href='vscode-notebook-cell://ssh-remote%2Bnode.postrausch.tech/root/repos/Programmierung/Python/Notebooks/fibonacco.ipynb#W1sdnNjb2RlLXJlbW90ZQ%3D%3D?line=0'>1</a>\u001b[0m \u001b[39mdef\u001b[39;00m \u001b[39mfib1\u001b[39m(n: \u001b[39mint\u001b[39m) \u001b[39m-\u001b[39m\u001b[39m>\u001b[39m \u001b[39mint\u001b[39m:\n\u001b[0;32m----> <a href='vscode-notebook-cell://ssh-remote%2Bnode.postrausch.tech/root/repos/Programmierung/Python/Notebooks/fibonacco.ipynb#W1sdnNjb2RlLXJlbW90ZQ%3D%3D?line=1'>2</a>\u001b[0m     \u001b[39mreturn\u001b[39;00m fib1(n \u001b[39m-\u001b[39;49m \u001b[39m1\u001b[39;49m) \u001b[39m+\u001b[39m fib1(n \u001b[39m-\u001b[39m \u001b[39m2\u001b[39m)\n",
      "\u001b[0;31mRecursionError\u001b[0m: maximum recursion depth exceeded"
     ]
    }
   ],
   "source": [
    "def fib1(n: int) -> int:\n",
    "    return fib1(n - 1) + fib1(n - 2)\n",
    "\n",
    "if __name__ == \"__main__\":\n",
    "    print(fib1(20))"
   ]
  },
  {
   "cell_type": "markdown",
   "metadata": {},
   "source": [
    "---\n",
    "- Die Funktion fib2 gibt die n. Fibinacci Zahl aus. Der Aufrufbaum wächst exponentiell, sodass ab 40 kein Ergebnis in menschlicher Zeit zu erwarten ist."
   ]
  },
  {
   "cell_type": "code",
   "execution_count": 3,
   "metadata": {},
   "outputs": [
    {
     "name": "stdout",
     "output_type": "stream",
     "text": [
      "6765\n"
     ]
    }
   ],
   "source": [
    "def fib2(n: int) -> int:\n",
    "    if (n < 2):\n",
    "        return n\n",
    "    return fib2(n - 1) + fib2(n - 2)\n",
    "\n",
    "if __name__ == \"__main__\":\n",
    "    print(fib2(20))"
   ]
  },
  {
   "cell_type": "markdown",
   "metadata": {},
   "source": [
    "---\n",
    "## Rekursion mit Memoisation\n",
    "---\n",
    "### manuelle Memoisation\n",
    "- Memoisation ist ein Verfahren zum Speichern von Ergebnissen einer Berechnung\n",
    "- fib3(20) erzeugt so nur 39 Aufrufe wohingegen fib2(20) 21891 Aufrufe benötigt hätte"
   ]
  },
  {
   "cell_type": "code",
   "execution_count": 2,
   "metadata": {},
   "outputs": [
    {
     "name": "stdout",
     "output_type": "stream",
     "text": [
      "6765\n"
     ]
    }
   ],
   "source": [
    "from typing import Dict\n",
    "\n",
    "memo: Dict[int, int] = {0: 0, 1: 1} # Abbruchbedingungen\n",
    "\n",
    "def fib3(n: int) -> int:\n",
    "    if n not in memo:\n",
    "        memo[n] = fib3(n - 1) + fib3(n - 2)\n",
    "    return memo[n]\n",
    "\n",
    "if __name__ == \"__main__\":\n",
    "    print(fib3(20))"
   ]
  },
  {
   "cell_type": "markdown",
   "metadata": {},
   "source": [
    "---\n",
    "### automatische Memoisation\n",
    "- fib4 ist identisch zu fib2\n",
    "- der Aufruf von fib4 erzeugt automatisch ein Cache der die letzten Ergebnisse speichert\n",
    "- der Parameter maxsize bestimmt wie viele der jüngsten Ergebnisse gespeichert werden (none bestimmt das unendlich viele Ergebnisse gespeichert werden)"
   ]
  },
  {
   "cell_type": "code",
   "execution_count": 29,
   "metadata": {},
   "outputs": [
    {
     "name": "stdout",
     "output_type": "stream",
     "text": [
      "6765\n"
     ]
    }
   ],
   "source": [
    "from functools import lru_cache\n",
    "\n",
    "@lru_cache(maxsize=None)\n",
    "def fib4(n: int) -> int:\n",
    "    if n < 2:\n",
    "        return n\n",
    "    return fib4(n - 1) + fib4(n - 2)\n",
    "\n",
    "if __name__ == \"__main__\":\n",
    "    print(fib4(20))"
   ]
  },
  {
   "cell_type": "markdown",
   "metadata": {},
   "source": [
    "---\n",
    "## Traditionelle Berechnung einer Fibonacci Zahl\n",
    "- maximal werden n - 1 Aufrufe benötigt\n",
    "- fib5 erzeugt so 19 Aufrufe gegen die 21891 Aufrufe von Fib2"
   ]
  },
  {
   "cell_type": "code",
   "execution_count": 30,
   "metadata": {},
   "outputs": [
    {
     "name": "stdout",
     "output_type": "stream",
     "text": [
      "6765\n"
     ]
    }
   ],
   "source": [
    "def fib5(n: int) -> int:\n",
    "    if n == 0: return 0 # Spezuialfall\n",
    "    last: int = 0 # erste Zahl\n",
    "    next: int = 1 # zweite Zahl\n",
    "    for _ in range(1, n):\n",
    "        last, next = next, last + next\n",
    "    return next\n",
    "\n",
    "if __name__ == \"__main__\":\n",
    "    print(fib5(20))"
   ]
  },
  {
   "cell_type": "markdown",
   "metadata": {},
   "source": [
    "---\n",
    "## Generator\n",
    "- Wir wollen in diesem Bespiel die Gesamte Fibonacci Folge bis zum 20. Wert ausgeben\n",
    "- Dafür wird ein Generator benötitgt der bei jeder Ausführung von fib5 die berechnete Zahl ausgibt"
   ]
  },
  {
   "cell_type": "code",
   "execution_count": 1,
   "metadata": {},
   "outputs": [
    {
     "name": "stdout",
     "output_type": "stream",
     "text": [
      "0\n",
      "1\n",
      "1\n",
      "2\n",
      "3\n",
      "5\n",
      "8\n",
      "13\n",
      "21\n",
      "34\n",
      "55\n",
      "89\n",
      "144\n",
      "233\n",
      "377\n",
      "610\n",
      "987\n",
      "1597\n",
      "2584\n",
      "4181\n",
      "6765\n",
      "10946\n"
     ]
    }
   ],
   "source": [
    "from typing import Generator\n",
    "\n",
    "def fib6(n: int) -> Generator[int, None, None]:\n",
    "    yield 0 # Spezialfall\n",
    "    if n > 0: yield 1 # Spezialfall\n",
    "    last: int = 0 # erste Zahl\n",
    "    next: int = 1 # zweite Zahl\n",
    "    for _ in range(n):\n",
    "        last, next = next, last + next\n",
    "        yield next\n",
    "\n",
    "if __name__ == \"__main__\":\n",
    "    for i in fib6(20):\n",
    "        print(i)"
   ]
  }
 ],
 "metadata": {
  "kernelspec": {
   "display_name": "Python 3.9.2 64-bit",
   "language": "python",
   "name": "python3"
  },
  "language_info": {
   "codemirror_mode": {
    "name": "ipython",
    "version": 3
   },
   "file_extension": ".py",
   "mimetype": "text/x-python",
   "name": "python",
   "nbconvert_exporter": "python",
   "pygments_lexer": "ipython3",
   "version": "3.9.2"
  },
  "orig_nbformat": 4,
  "vscode": {
   "interpreter": {
    "hash": "916dbcbb3f70747c44a77c7bcd40155683ae19c65e1c03b4aa3499c5328201f1"
   }
  }
 },
 "nbformat": 4,
 "nbformat_minor": 2
}

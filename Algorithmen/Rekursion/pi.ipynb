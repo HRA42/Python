{
 "cells": [
  {
   "cell_type": "markdown",
   "metadata": {},
   "source": [
    "# Pi Berechnen\n",
    "\n",
    "---\n",
    "\n",
    "## Leibniz Formel\n",
    "- Pi kann mit Hilfe der Leibnitz Formel berechnet werden\n",
    "- Die Formel lautet:\n",
    "    - $\\Pi$ = 4/1 - 4/3 + 4/5 - 4/7 + 4/9 - 4/11...\n",
    "- Die Reihe ist unendlich\n",
    "- Der Zähler bleibt immer 4\n",
    "- Der Nenner inkrementiert sich um 2\n",
    "- Die Operationen zwischen den Termen alternativ zwischen Subtraktion und Addition\n",
    "- Einfache Modellierung:\n",
    "    - Teile der Formel werden als Variablen in einer Funktion dargestellt\n",
    "    - Der Zähler kann konstant 4 sein\n",
    "    - Der Nenner kann eine Variable sein, die bei 1 beginnt und jeweils um 2 erhöht wird\n",
    "    - Die Operation wird entweder durch -1 oder +1 dargestellt, je nachdem ob Addiert oder Subtrahiert werden soll\n",
    "    - Eine Variable wird genutzt um die Summe der Terme zu bilden\n",
    "\n",
    "---\n",
    "\n",
    "## Nutzen\n",
    "- Dieses Beispiel soll zeigen wie man eine Mathematische Formel in Programmcode \"übersetzen\" kann\n",
    "- nicht unbedingt die Effizienteste Art und Weise Pi zu berechnen!\n",
    "\n",
    "\n",
    "---"
   ]
  },
  {
   "cell_type": "code",
   "execution_count": 1,
   "metadata": {},
   "outputs": [
    {
     "name": "stdout",
     "output_type": "stream",
     "text": [
      "3.1415916535897743\n"
     ]
    }
   ],
   "source": [
    "def calculate_pi(n_terms: int) -> float:\n",
    "    numerator: float = 4.0 # Zähler\n",
    "    denominator: float = 1.0 # Startwert für Nenner\n",
    "    operation: float = 1.0 # Operation\n",
    "    pi : float = 0.0 # Ergebnis\n",
    "    for _ in range(n_terms):\n",
    "        pi += operation * (numerator / denominator)\n",
    "        denominator += 2.0\n",
    "        operation *= -1.0\n",
    "    return pi\n",
    "if __name__ == \"__main__\":\n",
    "    print(calculate_pi(1000000))"
   ]
  }
 ],
 "metadata": {
  "kernelspec": {
   "display_name": "Python 3.9.2 64-bit",
   "language": "python",
   "name": "python3"
  },
  "language_info": {
   "codemirror_mode": {
    "name": "ipython",
    "version": 3
   },
   "file_extension": ".py",
   "mimetype": "text/x-python",
   "name": "python",
   "nbconvert_exporter": "python",
   "pygments_lexer": "ipython3",
   "version": "3.9.2"
  },
  "orig_nbformat": 4,
  "vscode": {
   "interpreter": {
    "hash": "916dbcbb3f70747c44a77c7bcd40155683ae19c65e1c03b4aa3499c5328201f1"
   }
  }
 },
 "nbformat": 4,
 "nbformat_minor": 2
}

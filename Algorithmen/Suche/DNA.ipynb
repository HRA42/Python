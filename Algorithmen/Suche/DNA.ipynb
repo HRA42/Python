{
 "cells": [
  {
   "cell_type": "markdown",
   "metadata": {},
   "source": [
    "# DNA Suche\n",
    "- Abfolge von A, C, G, T (Nukleotid)\n",
    "- 3 Nukleotide werden Codon genannt\n",
    "- Ein Codon ist eine bestimmte Aminosäure\n",
    "- Aminosäuren beschreiben in Kombination ein Protein\n",
    "- Klassische Aufgabe der Bioinformatik: Bestimmtes Codon innerhalb eines Genes zu finden\n",
    "---"
   ]
  },
  {
   "cell_type": "markdown",
   "metadata": {},
   "source": [
    "## DNA Speichern\n",
    "- IntEnum stellt Vergleichsoperationen bereit"
   ]
  },
  {
   "cell_type": "code",
   "execution_count": 1,
   "metadata": {},
   "outputs": [],
   "source": [
    "from enum import IntEnum\n",
    "from typing import Tuple, List\n",
    "Nucleotide: IntEnum = IntEnum('Nucleotide', ('A', 'C', 'G', 'T'))\n",
    "Codon = Tuple[Nucleotide, Nucleotide, Nucleotide] # Typ-Alias für Codons\n",
    "Gene = List[Codon] # Typ-Alias für Gene\n",
    "gene_str: str=\"ACGGATTAGTACTGGATAT\"\n",
    "def string_to_gene(s: str) -> Gene:\n",
    "    gene: Gene = []\n",
    "    for i in range(0, len(s), 3):\n",
    "        if (i + 2) >= len(s): \n",
    "            return gene\n",
    "        codon: Codon = (Nucleotide[s[i]], Nucleotide[s[i+1]], Nucleotide[s[i+2]])\n",
    "        gene.append(codon)\n",
    "    return gene\n",
    "my_gene: Gene = string_to_gene(gene_str)"
   ]
  },
  {
   "cell_type": "markdown",
   "metadata": {},
   "source": [
    "---\n",
    "## Lineare Suche\n",
    "- Wir wollen in einem Gen ein bestimmtes Codon suchen\n",
    "- ZieL: Existiert Codon?\n",
    "- Lineare Suche durchwandert eine Datenstruktur bis das Element gefunden wurde oder das Ende erreicht wurde\n",
    "- Komplexität: O(n) für n Elemente in der Datenstruktur"
   ]
  },
  {
   "cell_type": "code",
   "execution_count": 2,
   "metadata": {},
   "outputs": [
    {
     "name": "stdout",
     "output_type": "stream",
     "text": [
      "True\n",
      "True\n"
     ]
    }
   ],
   "source": [
    "def linear_contains(gene: Gene, key_codon: Codon) -> bool:\n",
    "    for codon in gene:\n",
    "        if codon == key_codon:\n",
    "            return True\n",
    "    return False\n",
    "\n",
    "acg: Codon = (Nucleotide.A, Nucleotide.C, Nucleotide.G)\n",
    "gat: Codon = (Nucleotide.G, Nucleotide.A, Nucleotide.T)\n",
    "print(linear_contains(my_gene, acg))\n",
    "print(linear_contains(my_gene, gat))"
   ]
  },
  {
   "cell_type": "markdown",
   "metadata": {},
   "source": [
    "---\n",
    "## Binärsuche\n",
    "- Wir müssen wissen dass die Datenstruktur sortiert ist\n",
    "- Komplexität: O(lg n)\n",
    "    - ABER: Da eine sortierte Liste benötigt wird, muss die Zeit zum Sortieren der Komplexität hinzugefügt werden\n",
    "    - Komplexität mit Sortierung: O(n lg n)\n",
    "### Beispiel\n",
    "- Liste mit alphabetisch sortierten Wörtern:\n",
    "    - [\"Hund\", \"Känguru\", \"Katze\", \"Lama\", \"Marder\", \"Ratte\", \"Zebra\"]\n",
    "- Abfolge:\n",
    "    1. Mittleres Element finden [\"Lama\"] in unserem Beispiel\n",
    "    2. Ratte kommt Alphabetisch nach Lama, sodass nur noch die 2. Hälfe der Liste betrachtet werden muss\n",
    "    3. Die Schritte 1. und 2. wiederholen solange bis Ratte gefunden wird oder die Datenstruktur keine Elemente mehr enthält"
   ]
  },
  {
   "cell_type": "code",
   "execution_count": 3,
   "metadata": {},
   "outputs": [
    {
     "name": "stdout",
     "output_type": "stream",
     "text": [
      "True\n",
      "True\n"
     ]
    }
   ],
   "source": [
    "def binary_contains(gene: Gene, key_codon: Codon) -> bool:\n",
    "    low: int = 0\n",
    "    high: int = len(gene) - 1\n",
    "    while low <= high: #solange es noch einen Suchraum gibt\n",
    "        mid: int = (low + high) // 2\n",
    "        if gene[mid] < key_codon:\n",
    "            low = mid + 1\n",
    "        elif gene[mid] > key_codon:\n",
    "            high = mid - 1\n",
    "        else:\n",
    "            return True\n",
    "    return False\n",
    "\n",
    "my_sorted_gene: Gene = sorted(my_gene)\n",
    "print(binary_contains(my_sorted_gene, acg))\n",
    "print(binary_contains(my_sorted_gene, gat))"
   ]
  },
  {
   "cell_type": "markdown",
   "metadata": {},
   "source": [
    "---\n",
    "## Generische Suche\n",
    "- Dient der Verallgemeinerung der Suche für jegliche Python-Folgen  "
   ]
  },
  {
   "cell_type": "code",
   "execution_count": 4,
   "metadata": {},
   "outputs": [
    {
     "name": "stdout",
     "output_type": "stream",
     "text": [
      "True\n",
      "True\n",
      "False\n"
     ]
    }
   ],
   "source": [
    "from __future__ import annotations\n",
    "from typing import TypeVar, Iterable, Sequence, Generic, List, Callable, Set, Deque, Dict, Any, Optional, Protocol\n",
    "from heapq import heappush, heappop \n",
    "\n",
    "T = TypeVar('T')\n",
    "\n",
    "def linear_contains(iterable: Iterable[T], key: T) -> bool:\n",
    "    for item in iterable:\n",
    "        if item == key:\n",
    "            return True\n",
    "    return False\n",
    "\n",
    "C = TypeVar('C', bound='Comparable')\n",
    "class Comparable(Protocol):\n",
    "    def __eq__(self, other: Any) -> bool:\n",
    "        ...\n",
    "    def __lt__(self, other: Any) -> bool:\n",
    "        ...\n",
    "    def __gt__(self, other: Any) -> bool:\n",
    "        return (not self < other) and self != other\n",
    "    def __le__(self, other: Any) -> bool:\n",
    "        return self < other or self == other\n",
    "    def __ge__(self, other: Any) -> bool:\n",
    "        return not self < other\n",
    "\n",
    "def binary_contains(sequence: Sequence[C], key: C) -> bool:\n",
    "    low: int = 0\n",
    "    high: int = len(sequence) - 1\n",
    "    while low <= high: #solange es noch einen Suchraum gibt\n",
    "        mid: int = (low + high) // 2\n",
    "        if sequence[mid] < key:\n",
    "            low = mid + 1\n",
    "        elif sequence[mid] > key:\n",
    "            high = mid - 1\n",
    "        else:\n",
    "            return True\n",
    "    return False\n",
    "\n",
    "if __name__ == \"__main__\":\n",
    "    print(linear_contains([1, 5, 10, 15, 15, 15, 15, 20], 5)) # True\n",
    "    print(binary_contains([\"a\", \"d\", \"e\", \"f\", \"z\"], \"f\")) # True\n",
    "    print(binary_contains([\"john\", \"mark\", \"ronald\", \"sarah\"], \"sheila\")) # False"
   ]
  }
 ],
 "metadata": {
  "kernelspec": {
   "display_name": "Python 3.9.2 64-bit",
   "language": "python",
   "name": "python3"
  },
  "language_info": {
   "codemirror_mode": {
    "name": "ipython",
    "version": 3
   },
   "file_extension": ".py",
   "mimetype": "text/x-python",
   "name": "python",
   "nbconvert_exporter": "python",
   "pygments_lexer": "ipython3",
   "version": "3.10.5"
  },
  "orig_nbformat": 4,
  "vscode": {
   "interpreter": {
    "hash": "916dbcbb3f70747c44a77c7bcd40155683ae19c65e1c03b4aa3499c5328201f1"
   }
  }
 },
 "nbformat": 4,
 "nbformat_minor": 2
}

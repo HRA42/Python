{
 "cells": [
  {
   "cell_type": "markdown",
   "metadata": {},
   "source": [
    "# Kanibalen und Missonare\n",
    "- Ziel: Alle Missionare und Kanibalen von einer auf die andere Seite bewegen\n",
    "- Regeln:\n",
    "    1. Es können immer nur zwei Personen von der einen auf die andere Seite gehen\n",
    "    2. Es darf nie mehr Kanibalen als Missionare auf einer Seite geben\n",
    "    3. Es muss sich immer mind. eine Person bewegen\n",
    "\n",
    "---\n",
    "\n",
    "## Darstellung der Aufgabe\n",
    "- Das Geschehen auf der einen Seite muss gespeichert werden\n",
    "- Wo befindet sich das Boot (West oder Ost Ufer)"
   ]
  },
  {
   "cell_type": "code",
   "execution_count": 3,
   "metadata": {},
   "outputs": [
    {
     "name": "stdout",
     "output_type": "stream",
     "text": [
      "Am Westufer sind 3 Missionare und 3 Kanibalen.\n",
      "Am Ostufer sind 0 Missionare und 0 Kanibalen.\n",
      "Das Boot ist am Westufer Ufer.\n",
      "0 Missionare und 2 Kanibalen vom Westufer zum Ostufer transporiteren.\n",
      "\n",
      "Am Westufer sind 3 Missionare und 1 Kanibalen.\n",
      "Am Ostufer sind 0 Missionare und 2 Kanibalen.\n",
      "Das Boot ist am Ostufer Ufer.\n",
      "-2 Missionare und 0 Kanibalen vom Ostufer zum Westufer transporiteren.\n",
      "\n",
      "Am Westufer sind 1 Missionare und 1 Kanibalen.\n",
      "Am Ostufer sind 2 Missionare und 2 Kanibalen.\n",
      "Das Boot ist am Westufer Ufer.\n",
      "-1 Missionare und 1 Kanibalen vom Westufer zum Ostufer transporiteren.\n",
      "\n",
      "Am Westufer sind 0 Missionare und 0 Kanibalen.\n",
      "Am Ostufer sind 3 Missionare und 3 Kanibalen.\n",
      "Das Boot ist am Ostufer Ufer.\n"
     ]
    }
   ],
   "source": [
    "from __future__ import annotations\n",
    "from typing import List, Optional\n",
    "from generic_search import bfs, Node, node_to_path\n",
    "\n",
    "MAX_NUM: int = 3\n",
    "\n",
    "class MCState:\n",
    "    def __init__(self, missionaries: int, cannibals: int, boat: int) -> None:\n",
    "        self.wm: int = missionaries # Missionare am Westufer\n",
    "        self.wc: int = cannibals # Kanibalen am Westufer\n",
    "        self.em: int = MAX_NUM - self.wm # Missionare am Osttufer\n",
    "        self.ec: int = MAX_NUM - self.wc # Kanibalen am Osttufer\n",
    "        self.boad: bool = boat # Westufer oder nicht\n",
    "\n",
    "    def __str__(self) -> str:\n",
    "        return (\"Am Westufer sind {} Missionare und {} Kanibalen.\\n\"\n",
    "                \"Am Ostufer sind {} Missionare und {} Kanibalen.\\n\"\n",
    "                \"Das Boot ist am {} Ufer.\").format(self.wm, self.wc, self.em, self.ec, (\"Westufer\" if self.boad else \"Ostufer\"))\n",
    "\n",
    "    def goal_test(self) -> bool:\n",
    "        return self.is_legal and self.em == MAX_NUM and self.ec == MAX_NUM\n",
    "\n",
    "    def is_legal(self) -> bool:\n",
    "        if self.wm < self.wc and self.wm > 0:\n",
    "            return False \n",
    "        if self.em < self.ec and self.em > 0:\n",
    "            return False\n",
    "        return True\n",
    "    \n",
    "    def successors(self) -> List[MCState]:\n",
    "        sucs: List[MCState] = []\n",
    "        if self.wm > 1:\n",
    "            sucs.append(MCState(self.wm - 2, self.wc, not self.boad))\n",
    "        if self.wm > 0:\n",
    "            sucs.append(MCState(self.wm - 1, self.wc, not self.boad))\n",
    "        if self.wc > 1:\n",
    "            sucs.append(MCState(self.wm, self.wc - 2, not self.boad))\n",
    "        if self.wc > 0:\n",
    "            sucs.append(MCState(self.wm, self.wc - 1, not self.boad))\n",
    "        if (self.wc > 0) and (self.wm > 0):\n",
    "            sucs.append(MCState(self.wm - 1, self.wc - 1, not self.boad))\n",
    "        else:\n",
    "            if self.em > 1:\n",
    "                sucs.append(MCState(self.wm + 2, self.wc, not self.boad))\n",
    "            if self.em > 0:\n",
    "                sucs.append(MCState(self.wm + 1, self.wc, not self.boad))\n",
    "            if self.ec > 1:\n",
    "                sucs.append(MCState(self.wm, self.wc + 2, not self.boad))\n",
    "            if self.ec > 0 and self.em > 0:\n",
    "                sucs.append(MCState(self.wm + 1, self.wc + 1, not self.boad))\n",
    "        return [x for x in sucs if x.is_legal()]\n",
    "\n",
    "def display_solution(path: List[MCState]):\n",
    "    if len(path) == 0:\n",
    "        return\n",
    "    old_state: MCState = path[0]\n",
    "    print(old_state)\n",
    "    for current_state in path[1:]:\n",
    "        if current_state.boad:\n",
    "            print(\"{} Missionare und {} Kanibalen vom Ostufer zum Westufer transporiteren.\\n\".format(old_state.em - current_state.em, old_state.ec - current_state.ec))\n",
    "        else:\n",
    "            print(\"{} Missionare und {} Kanibalen vom Westufer zum Ostufer transporiteren.\\n\".format(old_state.em - current_state.em, old_state.wc - current_state.wc))\n",
    "        print(current_state)\n",
    "        old_state = current_state\n",
    "\n",
    "if __name__ == \"__main__\":\n",
    "    start: MCState = MCState(MAX_NUM, MAX_NUM, True)\n",
    "    solution: Optional[Node[MCState]] = bfs(start, MCState.goal_test, MCState.successors)\n",
    "    if solution is None:\n",
    "        print(\"Kein Weg gefunden.\")\n",
    "    else:\n",
    "        path: List[MCState] = node_to_path(solution)\n",
    "        display_solution(path)\n"
   ]
  }
 ],
 "metadata": {
  "kernelspec": {
   "display_name": "Python 3.9.2 64-bit",
   "language": "python",
   "name": "python3"
  },
  "language_info": {
   "codemirror_mode": {
    "name": "ipython",
    "version": 3
   },
   "file_extension": ".py",
   "mimetype": "text/x-python",
   "name": "python",
   "nbconvert_exporter": "python",
   "pygments_lexer": "ipython3",
   "version": "3.10.5"
  },
  "orig_nbformat": 4,
  "vscode": {
   "interpreter": {
    "hash": "916dbcbb3f70747c44a77c7bcd40155683ae19c65e1c03b4aa3499c5328201f1"
   }
  }
 },
 "nbformat": 4,
 "nbformat_minor": 2
}

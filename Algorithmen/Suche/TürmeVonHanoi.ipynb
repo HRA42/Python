{
 "cells": [
  {
   "cell_type": "markdown",
   "metadata": {},
   "source": [
    "# Türme von Hanoi\n",
    "\n",
    "---\n",
    "\n",
    "## Regeln\n",
    "- 3 Türme stehen nebeneinander (A, B, C)\n",
    "- Türm A ist von donutförmigen Scheiben umringt (die Scheibe mit dem größten Durchmesser ist ganz unten [Scheibe1])\n",
    "- Scheibe 2 befindet sich darüber, Schreibe 3 über Scheine 2, usw.\n",
    "- Ziel: Alle Scheiben von Turm A nach Turm C bewegen\n",
    "- Regeln:\n",
    "    1. Pro Zug darf nur eine Scheibe bewegt werden\n",
    "    2. Nur die oberste Scheibe ist auf jedem Turm zur Bewegung verfügbar\n",
    "    3. Eine Scheibe mit einem höheren Durchmesser darf nie auf einer mit niedrigerem Durchmesser liegen\n",
    "\n",
    "---\n",
    "\n",
    "## Modellierung\n",
    "- Ein Stapel ist eine Datenstruktur nach dem LIFO Prinzip (Last-In-First-Out)\n",
    "- Das zuletzt hinzugefügte Element kommt als erstes wieder raus\n",
    "- 2 grundlegende Operatoren:\n",
    "    1. Push - fügt ein Element hinzu\n",
    "    2. Pop - entfernt und gibt das letzte hinzugefügte Element aus\n",
    "- Modellierung in Python als Liste\n",
    "- Wenn eine Scheibe auf einen Turm gelegt werden soll, führen wir einen Push aus\n",
    "- Wenn wir eine Scheibe verschieben wollen, führen wir erst pop auf dem ersten Turm aus und danach push auf den anderen Turm\n",
    "\n",
    "---\n",
    "\n",
    "## Lösung\n",
    "- Rekursion nutzen\n",
    "    - Abbruchbedingung: Scheibe Bewegen\n",
    "    - mehr als eine Scheibe bewegen (Rekursionsbedingung)\n",
    "- Gedankliche Lösung:\n",
    "    1. Oberste Scheibe von Turm A auf Turm C bewegen\n",
    "    2. Mittlere Scheibe von Turm A auf Turm B bewegen\n",
    "    3. Scheibe von Turm C auf B bewegen\n",
    "    4. Scheibe von Turm A auf C bewegen\n",
    "    5. Obere Scheibe von Turm B auf A bewegen\n",
    "    6. Mittlere Scheibe von Turm B auf C bewegen\n",
    "    7. Letzte Scheibe von Turm A auf C bewegen\n",
    "- Programmatische Lösung:\n",
    "    1. Bewege die oberen n-1 Schreiben von Turm A nach B mit C als Zwischenschritt\n",
    "    2. Bewege die unterste Scheibe von A nach C\n",
    "    3. Bewege die oberen n-1 Schreiben von Turm B nach C mit A als Zwischenschritt\n",
    "\n",
    "---"
   ]
  },
  {
   "cell_type": "code",
   "execution_count": 1,
   "metadata": {},
   "outputs": [
    {
     "name": "stdout",
     "output_type": "stream",
     "text": [
      "Zustand vor dem Spiel:\n",
      "[1, 2, 3, 4, 5, 6, 7, 8, 9, 10, 11, 12, 13, 14, 15, 16, 17, 18, 19, 20, 21, 22, 23, 24, 25]\n",
      "[]\n",
      "[]\n",
      "Zustand nach dem Spiel:\n",
      "[]\n",
      "[]\n",
      "[1, 2, 3, 4, 5, 6, 7, 8, 9, 10, 11, 12, 13, 14, 15, 16, 17, 18, 19, 20, 21, 22, 23, 24, 25]\n"
     ]
    }
   ],
   "source": [
    "from typing import TypeVar, Generic, List\n",
    "\n",
    "T = TypeVar(\"T\")\n",
    "\n",
    "class Stack(Generic[T]):\n",
    "    def __init__(self) -> None:\n",
    "        self.container: List[T] = []\n",
    "    def push(self, item: T) -> None:\n",
    "        self.container.append(item)\n",
    "    def pop(self) -> T:\n",
    "        return self.container.pop()\n",
    "    def __repr__(self) -> str:\n",
    "        return repr(self.container)\n",
    "\n",
    "def hanoi(begin: Stack[int], end: Stack[int], temp: Stack[int], n: int) -> None:\n",
    "    if n == 1:\n",
    "        end.push(begin.pop())\n",
    "    else:\n",
    "        hanoi(begin, temp, end, n-1)\n",
    "        end.push(begin.pop())\n",
    "        hanoi(temp, end, begin, n-1)\n",
    "\n",
    "num_discs: int = 25 # Wie viele Scheiben sind im Spiel?\n",
    "tower_a: Stack[int] = Stack() \n",
    "tower_b: Stack[int] = Stack()\n",
    "tower_c: Stack[int] = Stack()\n",
    "# Turm A mit Scheiben füllen\n",
    "for i in range(1, num_discs + 1):\n",
    "    tower_a.push(i)\n",
    "\n",
    "if __name__ == \"__main__\":\n",
    "    print(\"Zustand vor dem Spiel:\")\n",
    "    print(tower_a)\n",
    "    print(tower_b)\n",
    "    print(tower_c)\n",
    "    hanoi(tower_a, tower_c, tower_b, num_discs)\n",
    "    print(\"Zustand nach dem Spiel:\")\n",
    "    print(tower_a)\n",
    "    print(tower_b)\n",
    "    print(tower_c)"
   ]
  }
 ],
 "metadata": {
  "kernelspec": {
   "display_name": "Python 3.9.2 64-bit",
   "language": "python",
   "name": "python3"
  },
  "language_info": {
   "codemirror_mode": {
    "name": "ipython",
    "version": 3
   },
   "file_extension": ".py",
   "mimetype": "text/x-python",
   "name": "python",
   "nbconvert_exporter": "python",
   "pygments_lexer": "ipython3",
   "version": "3.9.2"
  },
  "orig_nbformat": 4,
  "vscode": {
   "interpreter": {
    "hash": "916dbcbb3f70747c44a77c7bcd40155683ae19c65e1c03b4aa3499c5328201f1"
   }
  }
 },
 "nbformat": 4,
 "nbformat_minor": 2
}

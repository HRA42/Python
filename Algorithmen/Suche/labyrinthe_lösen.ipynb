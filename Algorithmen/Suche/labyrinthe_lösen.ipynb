{
 "cells": [
  {
   "cell_type": "markdown",
   "metadata": {
    "pycharm": {
     "name": "#%% md\n"
    }
   },
   "source": [
    "# Labyrinthe Lösen\n",
    "- Analogie für viele gängige Suchaufgaben in der Informatik\n",
    "- Dient der Veranschaulichung\n",
    "---\n",
    "## Das Labyrinth erzeugen"
   ]
  },
  {
   "cell_type": "code",
   "execution_count": 1,
   "metadata": {
    "pycharm": {
     "name": "#%%\n"
    }
   },
   "outputs": [
    {
     "name": "stdout",
     "output_type": "stream",
     "text": [
      "Das Labyrinth:\n",
      "S     XX  \n",
      "        XX\n",
      " X   XXX  \n",
      " X     X X\n",
      "   X      \n",
      "   X   X  \n",
      "X       X \n",
      "XX X    X \n",
      "   X   XX \n",
      "X X    X G\n",
      "\n"
     ]
    }
   ],
   "source": [
    "from enum import Enum\n",
    "from typing import List, NamedTuple, Callable, Optional\n",
    "import random\n",
    "from math import sqrt\n",
    "from generic_search import dfs, node_to_path, Node, bfs, astar\n",
    "class Cell(str, Enum):\n",
    "    EMPTY = \" \"\n",
    "    BLOCKED = \"X\"\n",
    "    START = \"S\"\n",
    "    GOAL = \"G\"\n",
    "    PATH = \"*\"\n",
    "class MazeLocation(NamedTuple):\n",
    "    row: int\n",
    "    column: int\n",
    "class Maze:\n",
    "    def __init__(self, rows: int = 10, columns: int = 10, sparseness: float = 0.2, start: MazeLocation = MazeLocation(0, 0), goal: MazeLocation = MazeLocation(9, 9)) -> None:\n",
    "        # Grundlegende Instanzvariablen initialisieren\n",
    "        self.rows: int = rows\n",
    "        self.columns: int = columns\n",
    "        self.start: MazeLocation = start\n",
    "        self.goal: MazeLocation = goal\n",
    "        # Das Gitter mit Zellen füllen\n",
    "        self._grid: List[List[Cell]] = [[Cell.EMPTY for c in range(columns)] for r in range(rows)]\n",
    "        # Gitter mit besetzten Zellen bestücken\n",
    "        self._randomly_fill(rows, columns, sparseness)\n",
    "        # Start und Ziel Positionen einfügen\n",
    "        self._grid[start.row][start.column] = Cell.START\n",
    "        self._grid[goal.row][goal.column] = Cell.GOAL\n",
    "    def _randomly_fill(self, rows: int, columns: int, sparseness: float):\n",
    "        for row in range(rows):\n",
    "            for column in range(columns):\n",
    "                if random.uniform(0, 1.0) < sparseness:\n",
    "                    self._grid[row][column] = Cell.BLOCKED\n",
    "    def __str__(self) -> str:\n",
    "        output: str = \"\"\n",
    "        for row in self._grid:\n",
    "            output += \"\".join([c.value for c in row]) + \"\\n\"\n",
    "        return output\n",
    "    def goal_test(self, ml: MazeLocation) -> bool:\n",
    "        return ml == self.goal\n",
    "    def successors(self, ml: MazeLocation) -> List[MazeLocation]:\n",
    "        locations: List[MazeLocation] = []\n",
    "        if ml.row + 1 < self.rows and self._grid[ml.row + 1][ml.column] != Cell.BLOCKED:\n",
    "            locations.append(MazeLocation(ml.row + 1, ml.column))\n",
    "        if ml.row - 1 >= 0 and self._grid[ml.row - 1][ml.column] != Cell.BLOCKED:\n",
    "            locations.append(MazeLocation(ml.row - 1, ml.column))\n",
    "        if ml.column + 1 < self.columns and self._grid[ml.row][ml.column + 1] != Cell.BLOCKED:\n",
    "            locations.append(MazeLocation(ml.row, ml.column + 1))\n",
    "        if ml.column - 1 >= 0 and self._grid[ml.row][ml.column - 1] != Cell.BLOCKED:\n",
    "            locations.append(MazeLocation(ml.row, ml.column - 1))\n",
    "        return locations\n",
    "    def mark(self, path: List[MazeLocation]):\n",
    "        for maze_location in path:\n",
    "            self._grid[maze_location.row][maze_location.column] = Cell.PATH\n",
    "        self._grid[self.start.row][self.start.column] = Cell.START\n",
    "        self._grid[self.goal.row][self.goal.column] = Cell.GOAL\n",
    "    def clear(self, path: List[MazeLocation]):\n",
    "        for maze_location in path:\n",
    "            self._grid[maze_location.row][maze_location.column] = Cell.EMPTY\n",
    "        self._grid[self.start.row][self.start.column] = Cell.START\n",
    "        self._grid[self.goal.row][self.goal.column] = Cell.GOAL\n",
    "    \n",
    "if __name__ == \"__main__\":\n",
    "    # DFS Testen\n",
    "    m: Maze = Maze()\n",
    "    print(\"Das Labyrinth:\")\n",
    "    print(m)"
   ]
  },
  {
   "cell_type": "markdown",
   "metadata": {
    "pycharm": {
     "name": "#%% md\n"
    }
   },
   "source": [
    "## Tiefensuche\n",
    "- Tiefensuche wird genutzt um Schritt für Schritt einen Pfad zu finden\n"
   ]
  },
  {
   "cell_type": "code",
   "execution_count": 2,
   "metadata": {
    "pycharm": {
     "name": "#%%\n"
    }
   },
   "outputs": [
    {
     "name": "stdout",
     "output_type": "stream",
     "text": [
      "Das Labyrinth mit den gefundenem Weg der Tiefensuche:\n",
      "S**** XX  \n",
      "    *   XX\n",
      " X***XXX  \n",
      " X*    X X\n",
      " **X  ****\n",
      " * X  *X *\n",
      "X****** X*\n",
      "XX X    X*\n",
      "   X   XX*\n",
      "X X    X G\n",
      "\n"
     ]
    }
   ],
   "source": [
    "solution1: Optional[Node[MazeLocation]] = dfs(m.start, m.goal_test, m.successors) # DFS\n",
    "if solution1 is None:\n",
    "        print(\"Die Tiefensuche hat keinen Weg gefunden\")\n",
    "else:\n",
    "        path1: List[MazeLocation] = node_to_path(solution1)\n",
    "        m.mark(path1)\n",
    "        print(\"Das Labyrinth mit den gefundenem Weg der Tiefensuche:\")\n",
    "        print(m)\n",
    "        m.clear(path1)"
   ]
  },
  {
   "cell_type": "markdown",
   "metadata": {
    "pycharm": {
     "name": "#%% md\n"
    }
   },
   "source": [
    "## Breitensuche\n",
    "- Die Breitsuche wird genutzt um Schicht für Schicht, den kürzesten Pfad zu ermitteln\n",
    "- Diese Suche kann sehr aufwendig sein"
   ]
  },
  {
   "cell_type": "code",
   "execution_count": 3,
   "metadata": {
    "pycharm": {
     "name": "#%%\n"
    }
   },
   "outputs": [
    {
     "name": "stdout",
     "output_type": "stream",
     "text": [
      "Das Labyrinth mit den gefundenem Weg der Breitensuche:\n",
      "S     XX  \n",
      "***     XX\n",
      " X*  XXX  \n",
      " X***  X X\n",
      "   X***** \n",
      "   X   X**\n",
      "X       X*\n",
      "XX X    X*\n",
      "   X   XX*\n",
      "X X    X G\n",
      "\n"
     ]
    }
   ],
   "source": [
    "solution2: Optional[Node[MazeLocation]] = bfs(m.start, m.goal_test, m.successors) # BFS\n",
    "if solution2 is None:\n",
    "        print(\"Die Breitensuche hat keinen Weg gefunden\")\n",
    "else:\n",
    "        path2: List[MazeLocation] = node_to_path(solution2)\n",
    "        m.mark(path2)\n",
    "        print(\"Das Labyrinth mit den gefundenem Weg der Breitensuche:\")\n",
    "        print(m)\n",
    "        m.clear(path2)"
   ]
  },
  {
   "cell_type": "markdown",
   "metadata": {
    "pycharm": {
     "name": "#%% md\n"
    }
   },
   "source": [
    "## A* Suche\n",
    "- Verwendet Kosten und Heuristik Funktion\n",
    "- g(n) [Kostenfunktion] gibt den Aufwand zu einem Zustand zu gelangen wieder\n",
    "- h(n) [Heuristikfunktion] gibt eine Schätzung der Kosten von einem Zustand zu einem anderen zu gelangen wieder\n",
    "- Die Gesamkosten ergeben sich aus der Kombination von Kosten und Heuristik Funktion\n",
    "    - f(n) =  g(n) + h(n)\n",
    "- Es wird die Funktion mit den niedrigsten Gesamtkosten ausgewählt"
   ]
  },
  {
   "cell_type": "code",
   "execution_count": 4,
   "metadata": {
    "pycharm": {
     "name": "#%%\n"
    }
   },
   "outputs": [
    {
     "name": "stdout",
     "output_type": "stream",
     "text": [
      "Das Labyrinth mit den gefundenem Weg der A*-Suche:\n",
      "S     XX  \n",
      "***     XX\n",
      " X***XXX  \n",
      " X  ***X X\n",
      "   X  ****\n",
      "   X   X *\n",
      "X       X*\n",
      "XX X    X*\n",
      "   X   XX*\n",
      "X X    X G\n",
      "\n"
     ]
    }
   ],
   "source": [
    "def euclidean_distance(goal: MazeLocation) -> Callable[[MazeLocation], float]:\n",
    "    def distance(ml: MazeLocation) -> float:\n",
    "        xdist: int = ml.column - goal.column\n",
    "        ydist: int = ml.row - goal.row\n",
    "        return sqrt((xdist * xdist) + (ydist * ydist))\n",
    "    return distance\n",
    "\n",
    "def manhattan_distance(goal: MazeLocation) -> Callable[[MazeLocation], float]:\n",
    "    def distance(ml: MazeLocation) -> float:\n",
    "        xdist: int = abs(ml.column - goal.column)\n",
    "        ydist: int = abs(ml.row - goal.row)\n",
    "        return xdist + ydist\n",
    "    return distance\n",
    "\n",
    "# A* Testen\n",
    "distance: Callable[[MazeLocation], float] = manhattan_distance(m.goal)\n",
    "solution3: Optional[Node[MazeLocation]] = astar(m.start, m.goal_test, m.successors, distance) # A* mit Manhattan-Distanz\n",
    "if solution3 is None:\n",
    "        print(\"Die A*-Suche hat keinen Weg gefunden\")\n",
    "else:\n",
    "        path3: List[MazeLocation] = node_to_path(solution3)\n",
    "        m.mark(path3)\n",
    "        print(\"Das Labyrinth mit den gefundenem Weg der A*-Suche:\")\n",
    "        print(m)\n",
    "        m.clear(path3)"
   ]
  }
 ],
 "metadata": {
  "kernelspec": {
   "display_name": "Python 3.9.2 64-bit",
   "language": "python",
   "name": "python3"
  },
  "language_info": {
   "codemirror_mode": {
    "name": "ipython",
    "version": 3
   },
   "file_extension": ".py",
   "mimetype": "text/x-python",
   "name": "python",
   "nbconvert_exporter": "python",
   "pygments_lexer": "ipython3",
   "version": "3.10.5"
  },
  "orig_nbformat": 4,
  "vscode": {
   "interpreter": {
    "hash": "916dbcbb3f70747c44a77c7bcd40155683ae19c65e1c03b4aa3499c5328201f1"
   }
  }
 },
 "nbformat": 4,
 "nbformat_minor": 2
}